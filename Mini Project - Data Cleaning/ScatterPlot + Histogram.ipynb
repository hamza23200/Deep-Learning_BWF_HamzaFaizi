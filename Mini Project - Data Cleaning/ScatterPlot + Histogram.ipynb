{
 "cells": [
  {
   "cell_type": "code",
   "execution_count": 76,
   "id": "9f9473b0",
   "metadata": {},
   "outputs": [],
   "source": [
    "import pandas as pd\n",
    "import glob\n",
    "import matplotlib.pyplot as plt"
   ]
  },
  {
   "cell_type": "code",
   "execution_count": 77,
   "id": "f551d5c8",
   "metadata": {},
   "outputs": [
    {
     "data": {
      "text/html": [
       "<div>\n",
       "<style scoped>\n",
       "    .dataframe tbody tr th:only-of-type {\n",
       "        vertical-align: middle;\n",
       "    }\n",
       "\n",
       "    .dataframe tbody tr th {\n",
       "        vertical-align: top;\n",
       "    }\n",
       "\n",
       "    .dataframe thead th {\n",
       "        text-align: right;\n",
       "    }\n",
       "</style>\n",
       "<table border=\"1\" class=\"dataframe\">\n",
       "  <thead>\n",
       "    <tr style=\"text-align: right;\">\n",
       "      <th></th>\n",
       "      <th>Unnamed: 0</th>\n",
       "      <th>State</th>\n",
       "      <th>TotalPop</th>\n",
       "      <th>Hispanic</th>\n",
       "      <th>White</th>\n",
       "      <th>Black</th>\n",
       "      <th>Native</th>\n",
       "      <th>Asian</th>\n",
       "      <th>Pacific</th>\n",
       "      <th>Income</th>\n",
       "      <th>GenderPop</th>\n",
       "    </tr>\n",
       "  </thead>\n",
       "  <tbody>\n",
       "    <tr>\n",
       "      <th>0</th>\n",
       "      <td>0</td>\n",
       "      <td>Alabama</td>\n",
       "      <td>4830620</td>\n",
       "      <td>3.7516156462584975%</td>\n",
       "      <td>61.878656462585%</td>\n",
       "      <td>31.25297619047618%</td>\n",
       "      <td>0.4532312925170065%</td>\n",
       "      <td>1.0502551020408146%</td>\n",
       "      <td>0.03435374149659865%</td>\n",
       "      <td>$43296.35860306644</td>\n",
       "      <td>2341093M_2489527F</td>\n",
       "    </tr>\n",
       "    <tr>\n",
       "      <th>1</th>\n",
       "      <td>1</td>\n",
       "      <td>Alaska</td>\n",
       "      <td>733375</td>\n",
       "      <td>5.909580838323351%</td>\n",
       "      <td>60.910179640718574%</td>\n",
       "      <td>2.8485029940119775%</td>\n",
       "      <td>16.39101796407186%</td>\n",
       "      <td>5.450299401197604%</td>\n",
       "      <td>1.0586826347305378%</td>\n",
       "      <td>$70354.74390243902</td>\n",
       "      <td>384160M_349215F</td>\n",
       "    </tr>\n",
       "    <tr>\n",
       "      <th>2</th>\n",
       "      <td>2</td>\n",
       "      <td>Arizona</td>\n",
       "      <td>6641928</td>\n",
       "      <td>29.565921052631502%</td>\n",
       "      <td>57.120000000000026%</td>\n",
       "      <td>3.8509868421052658%</td>\n",
       "      <td>4.35506578947368%</td>\n",
       "      <td>2.876578947368419%</td>\n",
       "      <td>0.16763157894736833%</td>\n",
       "      <td>$54207.82095490716</td>\n",
       "      <td>3299088M_3342840F</td>\n",
       "    </tr>\n",
       "    <tr>\n",
       "      <th>3</th>\n",
       "      <td>3</td>\n",
       "      <td>Arkansas</td>\n",
       "      <td>2958208</td>\n",
       "      <td>6.215474452554738%</td>\n",
       "      <td>71.13781021897813%</td>\n",
       "      <td>18.968759124087573%</td>\n",
       "      <td>0.5229197080291965%</td>\n",
       "      <td>1.1423357664233578%</td>\n",
       "      <td>0.14686131386861315%</td>\n",
       "      <td>$41935.63396778917</td>\n",
       "      <td>1451913M_1506295F</td>\n",
       "    </tr>\n",
       "    <tr>\n",
       "      <th>4</th>\n",
       "      <td>4</td>\n",
       "      <td>California</td>\n",
       "      <td>38421464</td>\n",
       "      <td>37.291874687968054%</td>\n",
       "      <td>40.21578881677474%</td>\n",
       "      <td>5.677396405391911%</td>\n",
       "      <td>0.40529206190713685%</td>\n",
       "      <td>13.052234148776776%</td>\n",
       "      <td>0.35141038442336353%</td>\n",
       "      <td>$67264.78230266465</td>\n",
       "      <td>19087135M_19334329F</td>\n",
       "    </tr>\n",
       "  </tbody>\n",
       "</table>\n",
       "</div>"
      ],
      "text/plain": [
       "   Unnamed: 0       State  TotalPop             Hispanic                White  \\\n",
       "0           0     Alabama   4830620  3.7516156462584975%     61.878656462585%   \n",
       "1           1      Alaska    733375   5.909580838323351%  60.910179640718574%   \n",
       "2           2     Arizona   6641928  29.565921052631502%  57.120000000000026%   \n",
       "3           3    Arkansas   2958208   6.215474452554738%   71.13781021897813%   \n",
       "4           4  California  38421464  37.291874687968054%   40.21578881677474%   \n",
       "\n",
       "                 Black                Native                Asian  \\\n",
       "0   31.25297619047618%   0.4532312925170065%  1.0502551020408146%   \n",
       "1  2.8485029940119775%    16.39101796407186%   5.450299401197604%   \n",
       "2  3.8509868421052658%     4.35506578947368%   2.876578947368419%   \n",
       "3  18.968759124087573%   0.5229197080291965%  1.1423357664233578%   \n",
       "4   5.677396405391911%  0.40529206190713685%  13.052234148776776%   \n",
       "\n",
       "                Pacific              Income            GenderPop  \n",
       "0  0.03435374149659865%  $43296.35860306644    2341093M_2489527F  \n",
       "1   1.0586826347305378%  $70354.74390243902      384160M_349215F  \n",
       "2  0.16763157894736833%  $54207.82095490716    3299088M_3342840F  \n",
       "3  0.14686131386861315%  $41935.63396778917    1451913M_1506295F  \n",
       "4  0.35141038442336353%  $67264.78230266465  19087135M_19334329F  "
      ]
     },
     "execution_count": 77,
     "metadata": {},
     "output_type": "execute_result"
    }
   ],
   "source": [
    "dataset = pd.concat(map(pd.read_csv, ['states0.csv', 'states1.csv', 'states2.csv', 'states3.csv', 'states4.csv', 'states5.csv', 'states6.csv', 'states7.csv', 'states8.csv', 'states9.csv']))\n",
    "dataset.head()\n",
    "#Another method is glob.glob('/content/*.csv')"
   ]
  },
  {
   "cell_type": "code",
   "execution_count": 78,
   "id": "9b779da3",
   "metadata": {},
   "outputs": [
    {
     "data": {
      "text/plain": [
       "Index(['Unnamed: 0', 'State', 'TotalPop', 'Hispanic', 'White', 'Black',\n",
       "       'Native', 'Asian', 'Pacific', 'Income', 'GenderPop'],\n",
       "      dtype='object')"
      ]
     },
     "execution_count": 78,
     "metadata": {},
     "output_type": "execute_result"
    }
   ],
   "source": [
    "dataset.columns"
   ]
  },
  {
   "cell_type": "code",
   "execution_count": 79,
   "id": "3dfce582",
   "metadata": {},
   "outputs": [
    {
     "data": {
      "text/html": [
       "<div>\n",
       "<style scoped>\n",
       "    .dataframe tbody tr th:only-of-type {\n",
       "        vertical-align: middle;\n",
       "    }\n",
       "\n",
       "    .dataframe tbody tr th {\n",
       "        vertical-align: top;\n",
       "    }\n",
       "\n",
       "    .dataframe thead th {\n",
       "        text-align: right;\n",
       "    }\n",
       "</style>\n",
       "<table border=\"1\" class=\"dataframe\">\n",
       "  <thead>\n",
       "    <tr style=\"text-align: right;\">\n",
       "      <th></th>\n",
       "      <th>State</th>\n",
       "      <th>TotalPop</th>\n",
       "      <th>Hispanic</th>\n",
       "      <th>White</th>\n",
       "      <th>Black</th>\n",
       "      <th>Native</th>\n",
       "      <th>Asian</th>\n",
       "      <th>Pacific</th>\n",
       "      <th>Income</th>\n",
       "      <th>GenderPop</th>\n",
       "    </tr>\n",
       "  </thead>\n",
       "  <tbody>\n",
       "    <tr>\n",
       "      <th>0</th>\n",
       "      <td>Alabama</td>\n",
       "      <td>4830620</td>\n",
       "      <td>3.7516156462584975%</td>\n",
       "      <td>61.878656462585%</td>\n",
       "      <td>31.25297619047618%</td>\n",
       "      <td>0.4532312925170065%</td>\n",
       "      <td>1.0502551020408146%</td>\n",
       "      <td>0.03435374149659865%</td>\n",
       "      <td>$43296.35860306644</td>\n",
       "      <td>2341093M_2489527F</td>\n",
       "    </tr>\n",
       "    <tr>\n",
       "      <th>1</th>\n",
       "      <td>Alaska</td>\n",
       "      <td>733375</td>\n",
       "      <td>5.909580838323351%</td>\n",
       "      <td>60.910179640718574%</td>\n",
       "      <td>2.8485029940119775%</td>\n",
       "      <td>16.39101796407186%</td>\n",
       "      <td>5.450299401197604%</td>\n",
       "      <td>1.0586826347305378%</td>\n",
       "      <td>$70354.74390243902</td>\n",
       "      <td>384160M_349215F</td>\n",
       "    </tr>\n",
       "    <tr>\n",
       "      <th>2</th>\n",
       "      <td>Arizona</td>\n",
       "      <td>6641928</td>\n",
       "      <td>29.565921052631502%</td>\n",
       "      <td>57.120000000000026%</td>\n",
       "      <td>3.8509868421052658%</td>\n",
       "      <td>4.35506578947368%</td>\n",
       "      <td>2.876578947368419%</td>\n",
       "      <td>0.16763157894736833%</td>\n",
       "      <td>$54207.82095490716</td>\n",
       "      <td>3299088M_3342840F</td>\n",
       "    </tr>\n",
       "    <tr>\n",
       "      <th>3</th>\n",
       "      <td>Arkansas</td>\n",
       "      <td>2958208</td>\n",
       "      <td>6.215474452554738%</td>\n",
       "      <td>71.13781021897813%</td>\n",
       "      <td>18.968759124087573%</td>\n",
       "      <td>0.5229197080291965%</td>\n",
       "      <td>1.1423357664233578%</td>\n",
       "      <td>0.14686131386861315%</td>\n",
       "      <td>$41935.63396778917</td>\n",
       "      <td>1451913M_1506295F</td>\n",
       "    </tr>\n",
       "    <tr>\n",
       "      <th>4</th>\n",
       "      <td>California</td>\n",
       "      <td>38421464</td>\n",
       "      <td>37.291874687968054%</td>\n",
       "      <td>40.21578881677474%</td>\n",
       "      <td>5.677396405391911%</td>\n",
       "      <td>0.40529206190713685%</td>\n",
       "      <td>13.052234148776776%</td>\n",
       "      <td>0.35141038442336353%</td>\n",
       "      <td>$67264.78230266465</td>\n",
       "      <td>19087135M_19334329F</td>\n",
       "    </tr>\n",
       "  </tbody>\n",
       "</table>\n",
       "</div>"
      ],
      "text/plain": [
       "        State  TotalPop             Hispanic                White  \\\n",
       "0     Alabama   4830620  3.7516156462584975%     61.878656462585%   \n",
       "1      Alaska    733375   5.909580838323351%  60.910179640718574%   \n",
       "2     Arizona   6641928  29.565921052631502%  57.120000000000026%   \n",
       "3    Arkansas   2958208   6.215474452554738%   71.13781021897813%   \n",
       "4  California  38421464  37.291874687968054%   40.21578881677474%   \n",
       "\n",
       "                 Black                Native                Asian  \\\n",
       "0   31.25297619047618%   0.4532312925170065%  1.0502551020408146%   \n",
       "1  2.8485029940119775%    16.39101796407186%   5.450299401197604%   \n",
       "2  3.8509868421052658%     4.35506578947368%   2.876578947368419%   \n",
       "3  18.968759124087573%   0.5229197080291965%  1.1423357664233578%   \n",
       "4   5.677396405391911%  0.40529206190713685%  13.052234148776776%   \n",
       "\n",
       "                Pacific              Income            GenderPop  \n",
       "0  0.03435374149659865%  $43296.35860306644    2341093M_2489527F  \n",
       "1   1.0586826347305378%  $70354.74390243902      384160M_349215F  \n",
       "2  0.16763157894736833%  $54207.82095490716    3299088M_3342840F  \n",
       "3  0.14686131386861315%  $41935.63396778917    1451913M_1506295F  \n",
       "4  0.35141038442336353%  $67264.78230266465  19087135M_19334329F  "
      ]
     },
     "execution_count": 79,
     "metadata": {},
     "output_type": "execute_result"
    }
   ],
   "source": [
    "dataset.drop(columns=dataset.columns[0],axis=1,inplace=True)\n",
    "dataset.head()"
   ]
  },
  {
   "cell_type": "code",
   "execution_count": 80,
   "id": "a5ca72a3",
   "metadata": {},
   "outputs": [
    {
     "data": {
      "text/html": [
       "<div>\n",
       "<style scoped>\n",
       "    .dataframe tbody tr th:only-of-type {\n",
       "        vertical-align: middle;\n",
       "    }\n",
       "\n",
       "    .dataframe tbody tr th {\n",
       "        vertical-align: top;\n",
       "    }\n",
       "\n",
       "    .dataframe thead th {\n",
       "        text-align: right;\n",
       "    }\n",
       "</style>\n",
       "<table border=\"1\" class=\"dataframe\">\n",
       "  <thead>\n",
       "    <tr style=\"text-align: right;\">\n",
       "      <th></th>\n",
       "      <th>State</th>\n",
       "      <th>TotalPop</th>\n",
       "      <th>Hispanic</th>\n",
       "      <th>White</th>\n",
       "      <th>Black</th>\n",
       "      <th>Native</th>\n",
       "      <th>Asian</th>\n",
       "      <th>Pacific</th>\n",
       "      <th>Income</th>\n",
       "      <th>GenderPop</th>\n",
       "    </tr>\n",
       "  </thead>\n",
       "  <tbody>\n",
       "    <tr>\n",
       "      <th>1</th>\n",
       "      <td>Vermont</td>\n",
       "      <td>626604</td>\n",
       "      <td>1.6092896174863391%</td>\n",
       "      <td>93.98306010928961%</td>\n",
       "      <td>0.9808743169398909%</td>\n",
       "      <td>0.301639344262295%</td>\n",
       "      <td>1.2387978142076501%</td>\n",
       "      <td>0.03060109289617486%</td>\n",
       "      <td>$55602.96721311475</td>\n",
       "      <td>308573M_318031F</td>\n",
       "    </tr>\n",
       "    <tr>\n",
       "      <th>2</th>\n",
       "      <td>Virginia</td>\n",
       "      <td>8256630</td>\n",
       "      <td>8.0110164981373%</td>\n",
       "      <td>63.271048430015945%</td>\n",
       "      <td>20.17599787120807%</td>\n",
       "      <td>0.21245343267695582%</td>\n",
       "      <td>5.455242150079845%</td>\n",
       "      <td>0.06471527408195847%</td>\n",
       "      <td>$72866.01341201717</td>\n",
       "      <td>4060948M_4195682F</td>\n",
       "    </tr>\n",
       "    <tr>\n",
       "      <th>3</th>\n",
       "      <td>Washington</td>\n",
       "      <td>6985464</td>\n",
       "      <td>11.140968858131506%</td>\n",
       "      <td>72.03840830449816%</td>\n",
       "      <td>3.384429065743947%</td>\n",
       "      <td>1.4107266435986163%</td>\n",
       "      <td>7.022006920415224%</td>\n",
       "      <td>0.609896193771627%</td>\n",
       "      <td>$64493.76768377254</td>\n",
       "      <td>3487725M_3497739F</td>\n",
       "    </tr>\n",
       "    <tr>\n",
       "      <th>4</th>\n",
       "      <td>West Virginia</td>\n",
       "      <td>1851420</td>\n",
       "      <td>1.290909090909089%</td>\n",
       "      <td>92.17623966942146%</td>\n",
       "      <td>3.6628099173553723%</td>\n",
       "      <td>0.15268595041322316%</td>\n",
       "      <td>0.6824380165289253%</td>\n",
       "      <td>0.02644628099173554%</td>\n",
       "      <td>$41437.11157024794</td>\n",
       "      <td>913631M_937789F</td>\n",
       "    </tr>\n",
       "    <tr>\n",
       "      <th>5</th>\n",
       "      <td>Wisconsin</td>\n",
       "      <td>5742117</td>\n",
       "      <td>6.683333333333334%</td>\n",
       "      <td>79.86400862068966%</td>\n",
       "      <td>8.195186781609202%</td>\n",
       "      <td>0.9536637931034483%</td>\n",
       "      <td>2.404238505747124%</td>\n",
       "      <td>0.020833333333333332%</td>\n",
       "      <td>$53898.889208633096</td>\n",
       "      <td>2851385M_2890732F</td>\n",
       "    </tr>\n",
       "  </tbody>\n",
       "</table>\n",
       "</div>"
      ],
      "text/plain": [
       "           State  TotalPop             Hispanic                White  \\\n",
       "1        Vermont    626604  1.6092896174863391%   93.98306010928961%   \n",
       "2       Virginia   8256630     8.0110164981373%  63.271048430015945%   \n",
       "3     Washington   6985464  11.140968858131506%   72.03840830449816%   \n",
       "4  West Virginia   1851420   1.290909090909089%   92.17623966942146%   \n",
       "5      Wisconsin   5742117   6.683333333333334%   79.86400862068966%   \n",
       "\n",
       "                 Black                Native                Asian  \\\n",
       "1  0.9808743169398909%    0.301639344262295%  1.2387978142076501%   \n",
       "2   20.17599787120807%  0.21245343267695582%   5.455242150079845%   \n",
       "3   3.384429065743947%   1.4107266435986163%   7.022006920415224%   \n",
       "4  3.6628099173553723%  0.15268595041322316%  0.6824380165289253%   \n",
       "5   8.195186781609202%   0.9536637931034483%   2.404238505747124%   \n",
       "\n",
       "                 Pacific               Income          GenderPop  \n",
       "1   0.03060109289617486%   $55602.96721311475    308573M_318031F  \n",
       "2   0.06471527408195847%   $72866.01341201717  4060948M_4195682F  \n",
       "3     0.609896193771627%   $64493.76768377254  3487725M_3497739F  \n",
       "4   0.02644628099173554%   $41437.11157024794    913631M_937789F  \n",
       "5  0.020833333333333332%  $53898.889208633096  2851385M_2890732F  "
      ]
     },
     "execution_count": 80,
     "metadata": {},
     "output_type": "execute_result"
    }
   ],
   "source": [
    "dataset.tail()"
   ]
  },
  {
   "cell_type": "code",
   "execution_count": 81,
   "id": "4a143457",
   "metadata": {},
   "outputs": [
    {
     "data": {
      "text/plain": [
       "(60, 10)"
      ]
     },
     "execution_count": 81,
     "metadata": {},
     "output_type": "execute_result"
    }
   ],
   "source": [
    "dataset.shape"
   ]
  },
  {
   "cell_type": "code",
   "execution_count": 82,
   "id": "7ff661aa",
   "metadata": {},
   "outputs": [
    {
     "data": {
      "text/plain": [
       "State        0\n",
       "TotalPop     0\n",
       "Hispanic     0\n",
       "White        0\n",
       "Black        0\n",
       "Native       0\n",
       "Asian        0\n",
       "Pacific      5\n",
       "Income       0\n",
       "GenderPop    0\n",
       "dtype: int64"
      ]
     },
     "execution_count": 82,
     "metadata": {},
     "output_type": "execute_result"
    }
   ],
   "source": [
    "dataset.isnull().sum()"
   ]
  },
  {
   "cell_type": "code",
   "execution_count": 83,
   "id": "41ecacde",
   "metadata": {},
   "outputs": [
    {
     "data": {
      "text/plain": [
       "State        0\n",
       "TotalPop     0\n",
       "Hispanic     0\n",
       "White        0\n",
       "Black        0\n",
       "Native       0\n",
       "Asian        0\n",
       "Pacific      0\n",
       "Income       0\n",
       "GenderPop    0\n",
       "dtype: int64"
      ]
     },
     "execution_count": 83,
     "metadata": {},
     "output_type": "execute_result"
    }
   ],
   "source": [
    "dataset['Pacific'] = dataset['Pacific'].fillna(dataset['Pacific'].mode()[0])\n",
    "dataset.isnull().sum()"
   ]
  },
  {
   "cell_type": "markdown",
   "id": "e2dde160",
   "metadata": {},
   "source": [
    "### Scatterplot that shows average income in a state vs proportion of women in that state."
   ]
  },
  {
   "cell_type": "code",
   "execution_count": 84,
   "id": "02c88a80",
   "metadata": {},
   "outputs": [
    {
     "data": {
      "text/html": [
       "<div>\n",
       "<style scoped>\n",
       "    .dataframe tbody tr th:only-of-type {\n",
       "        vertical-align: middle;\n",
       "    }\n",
       "\n",
       "    .dataframe tbody tr th {\n",
       "        vertical-align: top;\n",
       "    }\n",
       "\n",
       "    .dataframe thead th {\n",
       "        text-align: right;\n",
       "    }\n",
       "</style>\n",
       "<table border=\"1\" class=\"dataframe\">\n",
       "  <thead>\n",
       "    <tr style=\"text-align: right;\">\n",
       "      <th></th>\n",
       "      <th>State</th>\n",
       "      <th>TotalPop</th>\n",
       "      <th>Hispanic</th>\n",
       "      <th>White</th>\n",
       "      <th>Black</th>\n",
       "      <th>Native</th>\n",
       "      <th>Asian</th>\n",
       "      <th>Pacific</th>\n",
       "      <th>Income</th>\n",
       "      <th>Male</th>\n",
       "      <th>Female</th>\n",
       "    </tr>\n",
       "  </thead>\n",
       "  <tbody>\n",
       "    <tr>\n",
       "      <th>0</th>\n",
       "      <td>Alabama</td>\n",
       "      <td>4830620</td>\n",
       "      <td>3.7516156462584975%</td>\n",
       "      <td>61.878656462585%</td>\n",
       "      <td>31.25297619047618%</td>\n",
       "      <td>0.4532312925170065%</td>\n",
       "      <td>1.0502551020408146%</td>\n",
       "      <td>0.03435374149659865%</td>\n",
       "      <td>$43296.35860306644</td>\n",
       "      <td>2341093</td>\n",
       "      <td>2489527</td>\n",
       "    </tr>\n",
       "    <tr>\n",
       "      <th>1</th>\n",
       "      <td>Alaska</td>\n",
       "      <td>733375</td>\n",
       "      <td>5.909580838323351%</td>\n",
       "      <td>60.910179640718574%</td>\n",
       "      <td>2.8485029940119775%</td>\n",
       "      <td>16.39101796407186%</td>\n",
       "      <td>5.450299401197604%</td>\n",
       "      <td>1.0586826347305378%</td>\n",
       "      <td>$70354.74390243902</td>\n",
       "      <td>384160</td>\n",
       "      <td>349215</td>\n",
       "    </tr>\n",
       "    <tr>\n",
       "      <th>2</th>\n",
       "      <td>Arizona</td>\n",
       "      <td>6641928</td>\n",
       "      <td>29.565921052631502%</td>\n",
       "      <td>57.120000000000026%</td>\n",
       "      <td>3.8509868421052658%</td>\n",
       "      <td>4.35506578947368%</td>\n",
       "      <td>2.876578947368419%</td>\n",
       "      <td>0.16763157894736833%</td>\n",
       "      <td>$54207.82095490716</td>\n",
       "      <td>3299088</td>\n",
       "      <td>3342840</td>\n",
       "    </tr>\n",
       "    <tr>\n",
       "      <th>3</th>\n",
       "      <td>Arkansas</td>\n",
       "      <td>2958208</td>\n",
       "      <td>6.215474452554738%</td>\n",
       "      <td>71.13781021897813%</td>\n",
       "      <td>18.968759124087573%</td>\n",
       "      <td>0.5229197080291965%</td>\n",
       "      <td>1.1423357664233578%</td>\n",
       "      <td>0.14686131386861315%</td>\n",
       "      <td>$41935.63396778917</td>\n",
       "      <td>1451913</td>\n",
       "      <td>1506295</td>\n",
       "    </tr>\n",
       "    <tr>\n",
       "      <th>4</th>\n",
       "      <td>California</td>\n",
       "      <td>38421464</td>\n",
       "      <td>37.291874687968054%</td>\n",
       "      <td>40.21578881677474%</td>\n",
       "      <td>5.677396405391911%</td>\n",
       "      <td>0.40529206190713685%</td>\n",
       "      <td>13.052234148776776%</td>\n",
       "      <td>0.35141038442336353%</td>\n",
       "      <td>$67264.78230266465</td>\n",
       "      <td>19087135</td>\n",
       "      <td>19334329</td>\n",
       "    </tr>\n",
       "  </tbody>\n",
       "</table>\n",
       "</div>"
      ],
      "text/plain": [
       "        State  TotalPop             Hispanic                White  \\\n",
       "0     Alabama   4830620  3.7516156462584975%     61.878656462585%   \n",
       "1      Alaska    733375   5.909580838323351%  60.910179640718574%   \n",
       "2     Arizona   6641928  29.565921052631502%  57.120000000000026%   \n",
       "3    Arkansas   2958208   6.215474452554738%   71.13781021897813%   \n",
       "4  California  38421464  37.291874687968054%   40.21578881677474%   \n",
       "\n",
       "                 Black                Native                Asian  \\\n",
       "0   31.25297619047618%   0.4532312925170065%  1.0502551020408146%   \n",
       "1  2.8485029940119775%    16.39101796407186%   5.450299401197604%   \n",
       "2  3.8509868421052658%     4.35506578947368%   2.876578947368419%   \n",
       "3  18.968759124087573%   0.5229197080291965%  1.1423357664233578%   \n",
       "4   5.677396405391911%  0.40529206190713685%  13.052234148776776%   \n",
       "\n",
       "                Pacific              Income      Male    Female  \n",
       "0  0.03435374149659865%  $43296.35860306644   2341093   2489527  \n",
       "1   1.0586826347305378%  $70354.74390243902    384160    349215  \n",
       "2  0.16763157894736833%  $54207.82095490716   3299088   3342840  \n",
       "3  0.14686131386861315%  $41935.63396778917   1451913   1506295  \n",
       "4  0.35141038442336353%  $67264.78230266465  19087135  19334329  "
      ]
     },
     "execution_count": 84,
     "metadata": {},
     "output_type": "execute_result"
    }
   ],
   "source": [
    "dataset[['Male', 'Female']] = dataset.GenderPop.str.split(\"_\", expand = True)\n",
    "dataset[\"Male\"] = dataset[\"Male\"].str.replace(\"M\",\"\")\n",
    "dataset[\"Female\"] = dataset[\"Female\"].str.replace(\"F\",\"\")\n",
    "dataset.drop([\"GenderPop\"], axis=1,  inplace=True)\n",
    "dataset.head()"
   ]
  },
  {
   "cell_type": "code",
   "execution_count": 85,
   "id": "367e84f3",
   "metadata": {},
   "outputs": [
    {
     "name": "stderr",
     "output_type": "stream",
     "text": [
      "C:\\Users\\hamza\\AppData\\Local\\Temp/ipykernel_22244/2467120737.py:1: FutureWarning: The default value of regex will change from True to False in a future version. In addition, single character regular expressions will *not* be treated as literal strings when regex=True.\n",
      "  dataset[\"Income\"] = dataset[\"Income\"].str.replace(\"$\",\"\")\n"
     ]
    },
    {
     "data": {
      "text/html": [
       "<div>\n",
       "<style scoped>\n",
       "    .dataframe tbody tr th:only-of-type {\n",
       "        vertical-align: middle;\n",
       "    }\n",
       "\n",
       "    .dataframe tbody tr th {\n",
       "        vertical-align: top;\n",
       "    }\n",
       "\n",
       "    .dataframe thead th {\n",
       "        text-align: right;\n",
       "    }\n",
       "</style>\n",
       "<table border=\"1\" class=\"dataframe\">\n",
       "  <thead>\n",
       "    <tr style=\"text-align: right;\">\n",
       "      <th></th>\n",
       "      <th>State</th>\n",
       "      <th>TotalPop</th>\n",
       "      <th>Hispanic</th>\n",
       "      <th>White</th>\n",
       "      <th>Black</th>\n",
       "      <th>Native</th>\n",
       "      <th>Asian</th>\n",
       "      <th>Pacific</th>\n",
       "      <th>Income</th>\n",
       "      <th>Male</th>\n",
       "      <th>Female</th>\n",
       "    </tr>\n",
       "  </thead>\n",
       "  <tbody>\n",
       "    <tr>\n",
       "      <th>0</th>\n",
       "      <td>Alabama</td>\n",
       "      <td>4830620</td>\n",
       "      <td>3.7516156462584975%</td>\n",
       "      <td>61.878656462585%</td>\n",
       "      <td>31.25297619047618%</td>\n",
       "      <td>0.4532312925170065%</td>\n",
       "      <td>1.0502551020408146%</td>\n",
       "      <td>0.03435374149659865%</td>\n",
       "      <td>43296.358603</td>\n",
       "      <td>2341093</td>\n",
       "      <td>2489527</td>\n",
       "    </tr>\n",
       "    <tr>\n",
       "      <th>1</th>\n",
       "      <td>Alaska</td>\n",
       "      <td>733375</td>\n",
       "      <td>5.909580838323351%</td>\n",
       "      <td>60.910179640718574%</td>\n",
       "      <td>2.8485029940119775%</td>\n",
       "      <td>16.39101796407186%</td>\n",
       "      <td>5.450299401197604%</td>\n",
       "      <td>1.0586826347305378%</td>\n",
       "      <td>70354.743902</td>\n",
       "      <td>384160</td>\n",
       "      <td>349215</td>\n",
       "    </tr>\n",
       "    <tr>\n",
       "      <th>2</th>\n",
       "      <td>Arizona</td>\n",
       "      <td>6641928</td>\n",
       "      <td>29.565921052631502%</td>\n",
       "      <td>57.120000000000026%</td>\n",
       "      <td>3.8509868421052658%</td>\n",
       "      <td>4.35506578947368%</td>\n",
       "      <td>2.876578947368419%</td>\n",
       "      <td>0.16763157894736833%</td>\n",
       "      <td>54207.820955</td>\n",
       "      <td>3299088</td>\n",
       "      <td>3342840</td>\n",
       "    </tr>\n",
       "    <tr>\n",
       "      <th>3</th>\n",
       "      <td>Arkansas</td>\n",
       "      <td>2958208</td>\n",
       "      <td>6.215474452554738%</td>\n",
       "      <td>71.13781021897813%</td>\n",
       "      <td>18.968759124087573%</td>\n",
       "      <td>0.5229197080291965%</td>\n",
       "      <td>1.1423357664233578%</td>\n",
       "      <td>0.14686131386861315%</td>\n",
       "      <td>41935.633968</td>\n",
       "      <td>1451913</td>\n",
       "      <td>1506295</td>\n",
       "    </tr>\n",
       "    <tr>\n",
       "      <th>4</th>\n",
       "      <td>California</td>\n",
       "      <td>38421464</td>\n",
       "      <td>37.291874687968054%</td>\n",
       "      <td>40.21578881677474%</td>\n",
       "      <td>5.677396405391911%</td>\n",
       "      <td>0.40529206190713685%</td>\n",
       "      <td>13.052234148776776%</td>\n",
       "      <td>0.35141038442336353%</td>\n",
       "      <td>67264.782303</td>\n",
       "      <td>19087135</td>\n",
       "      <td>19334329</td>\n",
       "    </tr>\n",
       "  </tbody>\n",
       "</table>\n",
       "</div>"
      ],
      "text/plain": [
       "        State  TotalPop             Hispanic                White  \\\n",
       "0     Alabama   4830620  3.7516156462584975%     61.878656462585%   \n",
       "1      Alaska    733375   5.909580838323351%  60.910179640718574%   \n",
       "2     Arizona   6641928  29.565921052631502%  57.120000000000026%   \n",
       "3    Arkansas   2958208   6.215474452554738%   71.13781021897813%   \n",
       "4  California  38421464  37.291874687968054%   40.21578881677474%   \n",
       "\n",
       "                 Black                Native                Asian  \\\n",
       "0   31.25297619047618%   0.4532312925170065%  1.0502551020408146%   \n",
       "1  2.8485029940119775%    16.39101796407186%   5.450299401197604%   \n",
       "2  3.8509868421052658%     4.35506578947368%   2.876578947368419%   \n",
       "3  18.968759124087573%   0.5229197080291965%  1.1423357664233578%   \n",
       "4   5.677396405391911%  0.40529206190713685%  13.052234148776776%   \n",
       "\n",
       "                Pacific        Income      Male    Female  \n",
       "0  0.03435374149659865%  43296.358603   2341093   2489527  \n",
       "1   1.0586826347305378%  70354.743902    384160    349215  \n",
       "2  0.16763157894736833%  54207.820955   3299088   3342840  \n",
       "3  0.14686131386861315%  41935.633968   1451913   1506295  \n",
       "4  0.35141038442336353%  67264.782303  19087135  19334329  "
      ]
     },
     "execution_count": 85,
     "metadata": {},
     "output_type": "execute_result"
    }
   ],
   "source": [
    "dataset[\"Income\"] = dataset[\"Income\"].str.replace(\"$\",\"\")\n",
    "dataset['Income'] = pd.to_numeric(dataset['Income'])\n",
    "dataset.head()"
   ]
  },
  {
   "cell_type": "code",
   "execution_count": 86,
   "id": "ac7599f6",
   "metadata": {},
   "outputs": [],
   "source": [
    "dataset['Female'] = pd.to_numeric(dataset['Female']) #string to value \n",
    "dataset['Male'] = pd.to_numeric(dataset['Male'])\n",
    "dataset=dataset.drop_duplicates()"
   ]
  },
  {
   "cell_type": "code",
   "execution_count": 87,
   "id": "28ba3576",
   "metadata": {},
   "outputs": [
    {
     "data": {
      "image/png": "[encoded data removed]",
      "text/plain": [
       "<Figure size 432x288 with 1 Axes>"
      ]
     },
     "metadata": {
      "needs_background": "light"
     },
     "output_type": "display_data"
    }
   ],
   "source": [
    "import matplotlib.pyplot as plt\n",
    "plt.scatter(dataset['Female'],dataset[\"Income\"])\n",
    "plt.title(\"Female Proportion vs Average Income\")\n",
    "plt.xlabel(\"Female Proportion\")\n",
    "plt.ylabel(\"Average Income\")\n",
    "plt.show()"
   ]
  },
  {
   "cell_type": "code",
   "execution_count": 88,
   "id": "95333898",
   "metadata": {},
   "outputs": [
    {
     "data": {
      "text/plain": [
       "State        object\n",
       "TotalPop      int64\n",
       "Hispanic     object\n",
       "White        object\n",
       "Black        object\n",
       "Native       object\n",
       "Asian        object\n",
       "Pacific      object\n",
       "Income      float64\n",
       "Male          int64\n",
       "Female      float64\n",
       "dtype: object"
      ]
     },
     "execution_count": 88,
     "metadata": {},
     "output_type": "execute_result"
    }
   ],
   "source": [
    "dataset.dtypes"
   ]
  },
  {
   "cell_type": "code",
   "execution_count": 89,
   "id": "17942201",
   "metadata": {},
   "outputs": [
    {
     "data": {
      "text/plain": [
       "(51, 11)"
      ]
     },
     "execution_count": 89,
     "metadata": {},
     "output_type": "execute_result"
    }
   ],
   "source": [
    "dataset.shape"
   ]
  },
  {
   "cell_type": "code",
   "execution_count": 90,
   "id": "7492afd1",
   "metadata": {},
   "outputs": [
    {
     "data": {
      "text/plain": [
       "Index(['State', 'TotalPop', 'Hispanic', 'White', 'Black', 'Native', 'Asian',\n",
       "       'Pacific', 'Income', 'Male', 'Female'],\n",
       "      dtype='object')"
      ]
     },
     "execution_count": 90,
     "metadata": {},
     "output_type": "execute_result"
    }
   ],
   "source": [
    "dataset.columns"
   ]
  },
  {
   "cell_type": "markdown",
   "id": "4cd13ba0",
   "metadata": {},
   "source": [
    "### Histogram "
   ]
  },
  {
   "cell_type": "code",
   "execution_count": 99,
   "id": "717183e5",
   "metadata": {},
   "outputs": [
    {
     "data": {
      "text/plain": [
       "State        object\n",
       "TotalPop      int64\n",
       "Hispanic    float64\n",
       "White       float64\n",
       "Black       float64\n",
       "Native      float64\n",
       "Asian       float64\n",
       "Pacific     float64\n",
       "Income      float64\n",
       "Male          int64\n",
       "Female      float64\n",
       "dtype: object"
      ]
     },
     "execution_count": 99,
     "metadata": {},
     "output_type": "execute_result"
    }
   ],
   "source": [
    "race = [\"Hispanic\", \"White\", \"Black\", \"Native\", \"Asian\", \"Pacific\"]\n",
    "\n",
    "for col in race:\n",
    "    dataset[col]=dataset[col].replace(\"%\",\"\")\n",
    "dataset.dtypes"
   ]
  },
  {
   "cell_type": "code",
   "execution_count": 103,
   "id": "9653ad94",
   "metadata": {},
   "outputs": [
    {
     "data": {
      "image/png": "[encoded data removed]",
      "text/plain": [
       "<Figure size 432x288 with 1 Axes>"
      ]
     },
     "metadata": {
      "needs_background": "light"
     },
     "output_type": "display_data"
    }
   ],
   "source": [
    "plt.hist(dataset[race[0]], color='green', edgecolor='black', bins=30)\n",
    "plt.title('Hispanic Distribution')\n",
    "plt.xlabel('Hispanic Proportion') \n",
    "plt.show()"
   ]
  },
  {
   "cell_type": "code",
   "execution_count": 104,
   "id": "dd0be753",
   "metadata": {},
   "outputs": [
    {
     "data": {
      "image/png": "[encoded data removed]",
      "text/plain": [
       "<Figure size 432x288 with 1 Axes>"
      ]
     },
     "metadata": {
      "needs_background": "light"
     },
     "output_type": "display_data"
    }
   ],
   "source": [
    "plt.hist(dataset[race[1]], color='red', edgecolor='black', bins=30)\n",
    "plt.title('Hispanic Distribution')\n",
    "plt.xlabel('Hispanic Proportion') \n",
    "plt.show()"
   ]
  },
  {
   "cell_type": "code",
   "execution_count": 105,
   "id": "7c8d176c",
   "metadata": {},
   "outputs": [
    {
     "data": {
      "image/png": "[encoded data removed]",
      "text/plain": [
       "<Figure size 432x288 with 1 Axes>"
      ]
     },
     "metadata": {
      "needs_background": "light"
     },
     "output_type": "display_data"
    }
   ],
   "source": [
    "plt.hist(dataset[race[2]], color='cyan', edgecolor='black', bins=30)\n",
    "plt.title('Hispanic Distribution')\n",
    "plt.xlabel('Hispanic Proportion') \n",
    "plt.show()"
   ]
  },
  {
   "cell_type": "code",
   "execution_count": 106,
   "id": "690b6864",
   "metadata": {},
   "outputs": [
    {
     "data": {
      "image/png": "[encoded data removed]",
      "text/plain": [
       "<Figure size 432x288 with 1 Axes>"
      ]
     },
     "metadata": {
      "needs_background": "light"
     },
     "output_type": "display_data"
    }
   ],
   "source": [
    "plt.hist(dataset[race[3]], color='magenta', edgecolor='black', bins=30)\n",
    "plt.title('Hispanic Distribution')\n",
    "plt.xlabel('Hispanic Proportion') \n",
    "plt.show()"
   ]
  },
  {
   "cell_type": "code",
   "execution_count": 108,
   "id": "3cc2fe12",
   "metadata": {},
   "outputs": [
    {
     "data": {
      "image/png": "[encoded data removed]",
      "text/plain": [
       "<Figure size 432x288 with 1 Axes>"
      ]
     },
     "metadata": {
      "needs_background": "light"
     },
     "output_type": "display_data"
    }
   ],
   "source": [
    "plt.hist(dataset[race[3]], color='yellow', edgecolor='black', bins=30)\n",
    "plt.title('Hispanic Distribution')\n",
    "plt.xlabel('Hispanic Proportion') \n",
    "plt.show()"
   ]
  },
  {
   "cell_type": "code",
   "execution_count": 109,
   "id": "0329df3e",
   "metadata": {},
   "outputs": [
    {
     "data": {
      "image/png": "[encoded data removed]",
      "text/plain": [
       "<Figure size 432x288 with 1 Axes>"
      ]
     },
     "metadata": {
      "needs_background": "light"
     },
     "output_type": "display_data"
    }
   ],
   "source": [
    "plt.hist(dataset[race[4]], color='white', edgecolor='black', bins=30)\n",
    "plt.title('Hispanic Distribution')\n",
    "plt.xlabel('Hispanic Proportion') \n",
    "plt.show()"
   ]
  },
  {
   "cell_type": "code",
   "execution_count": 110,
   "id": "213ba6ce",
   "metadata": {},
   "outputs": [
    {
     "data": {
      "image/png": "[encoded data removed]",
      "text/plain": [
       "<Figure size 432x288 with 1 Axes>"
      ]
     },
     "metadata": {
      "needs_background": "light"
     },
     "output_type": "display_data"
    }
   ],
   "source": [
    "plt.hist(dataset[race[5]], color='black', edgecolor='black', bins=30)\n",
    "plt.title('Hispanic Distribution')\n",
    "plt.xlabel('Hispanic Proportion') \n",
    "plt.show()"
   ]
  },
  {
   "cell_type": "code",
   "execution_count": null,
   "id": "82908ad7",
   "metadata": {},
   "outputs": [],
   "source": []
  }
 ],
 "metadata": {
  "kernelspec": {
   "display_name": "Python 3 (ipykernel)",
   "language": "python",
   "name": "python3"
  },
  "language_info": {
   "codemirror_mode": {
    "name": "ipython",
    "version": 3
   },
   "file_extension": ".py",
   "mimetype": "text/x-python",
   "name": "python",
   "nbconvert_exporter": "python",
   "pygments_lexer": "ipython3",
   "version": "3.9.7"
  }
 },
 "nbformat": 4,
 "nbformat_minor": 5
}
