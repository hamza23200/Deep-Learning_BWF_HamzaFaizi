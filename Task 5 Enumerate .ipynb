{
 "cells": [
  {
   "cell_type": "markdown",
   "id": "8ddca9aa",
   "metadata": {},
   "source": [
    "#  Conditional"
   ]
  },
  {
   "cell_type": "code",
   "execution_count": 3,
   "id": "68d03ea6",
   "metadata": {},
   "outputs": [
    {
     "name": "stdout",
     "output_type": "stream",
     "text": [
      "wait for a year!\n"
     ]
    }
   ],
   "source": [
    "age = 17\n",
    "\n",
    "if age > 18:\n",
    "    print(\"You can drink! but try to be in limits :)\")\n",
    "elif age == 17:\n",
    "    print(\"wait for a year!\")\n",
    "else:\n",
    "    print(\"No drinking!!!\") "
   ]
  },
  {
   "cell_type": "markdown",
   "id": "2e265338",
   "metadata": {},
   "source": [
    "# Enumerate"
   ]
  },
  {
   "cell_type": "code",
   "execution_count": 2,
   "id": "72edbdec",
   "metadata": {},
   "outputs": [
    {
     "name": "stdout",
     "output_type": "stream",
     "text": [
      "(0, 'eat')\n",
      "(1, 'sleep')\n",
      "(2, 'repeat')\n",
      "100 eat\n",
      "101 sleep\n",
      "102 repeat\n",
      "0\n",
      "eat\n",
      "1\n",
      "sleep\n",
      "2\n",
      "repeat\n"
     ]
    }
   ],
   "source": [
    "\n",
    "# enumerate function in loops\n",
    "l1 = [\"eat\", \"sleep\", \"repeat\"]\n",
    "\n",
    "# printing the tuples in object directly\n",
    "for ele in enumerate(l1):\n",
    "\tprint (ele)\n",
    "\n",
    "# changing index and printing separately\n",
    "for count, ele in enumerate(l1, 100):\n",
    "\tprint (count, ele)\n",
    "\n",
    "# getting desired output from tuple\n",
    "for count, ele in enumerate(l1):\n",
    "\tprint(count)\n",
    "\tprint(ele)"
   ]
  },
  {
   "cell_type": "markdown",
   "id": "f2f6d1c6",
   "metadata": {},
   "source": [
    "# User Interface"
   ]
  },
  {
   "cell_type": "code",
   "execution_count": 4,
   "id": "09b85850",
   "metadata": {},
   "outputs": [
    {
     "name": "stdout",
     "output_type": "stream",
     "text": [
      "Enter you age: 23\n",
      "You can drink! but try to be in limits :)\n"
     ]
    }
   ],
   "source": [
    "age = int(input(\"Enter you age: \"))\n",
    "\n",
    "if age > 18:\n",
    "    print(\"You can drink! but try to be in limits :)\")\n",
    "elif age == 17:\n",
    "    print(\"wait for a year!\")\n",
    "else:\n",
    "    print(\"No drinking!!!\") "
   ]
  },
  {
   "cell_type": "markdown",
   "id": "bd91326d",
   "metadata": {},
   "source": [
    "# Sets"
   ]
  },
  {
   "cell_type": "code",
   "execution_count": 9,
   "id": "6afe347b",
   "metadata": {},
   "outputs": [
    {
     "name": "stdout",
     "output_type": "stream",
     "text": [
      "{'oranges', 'mangoes', 'apples'}\n",
      "{'oranges', 'mangoes', 'apples'}\n",
      "---------------------\n",
      "{'oranges', 'mangoes'}\n",
      "---------------------\n",
      "{8, 10, 15}\n"
     ]
    }
   ],
   "source": [
    "# Making Data Unique with Sets\n",
    "fruit_set = {\"mangoes\", \"oranges\", \"apples\", \"apples\"} # apple is present but set will automatically make it unique\n",
    "print(fruit_set)\n",
    "\n",
    "# it doesn't support indexing\n",
    "# print(fruit_set[0])\n",
    "# print(fruit_set[1])\n",
    "# print(fruit_set[2])\n",
    "\n",
    "# using set() to create a set\n",
    "fruit_set_new = set([\"mangoes\", \"oranges\", \"apples\"])\n",
    "print(fruit_set_new)\n",
    "print(\"---------------------\")\n",
    "\n",
    "# it doesn't support append\n",
    "\n",
    "fruit_set_new.remove(\"apples\")\n",
    "print(fruit_set_new)\n",
    "print(\"---------------------\")\n",
    "\n",
    "# it orders things automatically\n",
    "num_set = {15, 8, 10, 10}\n",
    "print(num_set)"
   ]
  },
  {
   "cell_type": "markdown",
   "id": "b4bff84d",
   "metadata": {},
   "source": [
    "# Union, Intersection, Difference, Symmetric Difference in Sets"
   ]
  },
  {
   "cell_type": "code",
   "execution_count": 10,
   "id": "8951b817",
   "metadata": {},
   "outputs": [
    {
     "name": "stdout",
     "output_type": "stream",
     "text": [
      "Union = {16, 20, 8, 10, 30, 15}\n",
      "Intersection = set()\n",
      "Difference = {8, 10, 15}\n",
      "Symmetric difference = {8, 10, 15, 16, 20, 30}\n"
     ]
    }
   ],
   "source": [
    "num_set_1 = {15, 8, 10, 10}\n",
    "num_set_2 = {30, 16, 20, 20}\n",
    "  \n",
    "# Computing Union(add both) through sets\n",
    "print(f\"Union = {num_set_1 | num_set_2}\")\n",
    "  \n",
    "# Computing intersection(common) through sets\n",
    "print(f\"Intersection = {num_set_1 & num_set_2}\")\n",
    "  \n",
    "# Computing difference through sets\n",
    "print(f\"Difference = {num_set_1 - num_set_2}\")\n",
    "  \n",
    "# Computing symmetric difference through sets\n",
    "print(f\"Symmetric difference = {num_set_1 ^ num_set_2}\")"
   ]
  },
  {
   "cell_type": "markdown",
   "id": "e4a2c8cd",
   "metadata": {},
   "source": [
    "# Timing"
   ]
  },
  {
   "cell_type": "code",
   "execution_count": 12,
   "id": "2279584d",
   "metadata": {},
   "outputs": [
    {
     "name": "stdout",
     "output_type": "stream",
     "text": [
      "Total time elapsed: 0.00498652458190918\n"
     ]
    }
   ],
   "source": [
    "import time\n",
    "\n",
    "start = time.time()\n",
    "\n",
    "num_list = []\n",
    "for i in range(10000):\n",
    "    num_list.append(i*i*i*i*i*i)\n",
    "\n",
    "end = time.time()\n",
    "\n",
    "print(f\"Total time elapsed: {end-start}\")"
   ]
  },
  {
   "cell_type": "code",
   "execution_count": null,
   "id": "df74a1fc",
   "metadata": {},
   "outputs": [],
   "source": []
  },
  {
   "cell_type": "code",
   "execution_count": null,
   "id": "344ce50e",
   "metadata": {},
   "outputs": [],
   "source": []
  }
 ],
 "metadata": {
  "kernelspec": {
   "display_name": "Python 3 (ipykernel)",
   "language": "python",
   "name": "python3"
  },
  "language_info": {
   "codemirror_mode": {
    "name": "ipython",
    "version": 3
   },
   "file_extension": ".py",
   "mimetype": "text/x-python",
   "name": "python",
   "nbconvert_exporter": "python",
   "pygments_lexer": "ipython3",
   "version": "3.9.7"
  }
 },
 "nbformat": 4,
 "nbformat_minor": 5
}
