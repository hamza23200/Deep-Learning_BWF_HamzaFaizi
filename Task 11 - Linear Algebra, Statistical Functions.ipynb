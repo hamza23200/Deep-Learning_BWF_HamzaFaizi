{
 "cells": [
  {
   "cell_type": "code",
   "execution_count": 2,
   "id": "56ee082b",
   "metadata": {},
   "outputs": [],
   "source": [
    "import numpy as np"
   ]
  },
  {
   "cell_type": "markdown",
   "id": "a3065271",
   "metadata": {},
   "source": [
    "#  Basic Statistical Functions in NumPy"
   ]
  },
  {
   "cell_type": "code",
   "execution_count": 4,
   "id": "d22ed32a",
   "metadata": {},
   "outputs": [
    {
     "name": "stdout",
     "output_type": "stream",
     "text": [
      "Sum: 45\n",
      "Mean: 5.0\n"
     ]
    }
   ],
   "source": [
    "# Create a 2D NumPy array\n",
    "arr = np.array([[1, 2, 3],\n",
    "                [4, 5, 6],\n",
    "                [7, 8, 9]])\n",
    "\n",
    "# sum of all elements in the array\n",
    "print(\"Sum:\", np.sum(arr))\n",
    "\n",
    "# mean of all elements in the array\n",
    "print(\"Mean:\", np.mean(arr))"
   ]
  },
  {
   "cell_type": "code",
   "execution_count": 5,
   "id": "e87c9a56",
   "metadata": {},
   "outputs": [
    {
     "name": "stdout",
     "output_type": "stream",
     "text": [
      "Median: 5.0\n"
     ]
    }
   ],
   "source": [
    "# median value of all elements in the array\n",
    "print(\"Median:\", np.median(arr))"
   ]
  },
  {
   "cell_type": "code",
   "execution_count": 14,
   "id": "fcc82c90",
   "metadata": {},
   "outputs": [
    {
     "name": "stdout",
     "output_type": "stream",
     "text": [
      "count: [1 1 1 2 3 2]\n",
      "mode_id: 4\n",
      "Mode: 4\n"
     ]
    }
   ],
   "source": [
    "# Create a 1D array\n",
    "X = np.array([0, 1, 2, 3, 3, 4, 4, 4, 5, 5])\n",
    "\n",
    "# Calculate the mode\n",
    "mode, count = np.unique(X, return_counts=True)\n",
    "print(\"count:\",count)\n",
    "mode_idx = np.argmax(count) # 3\n",
    "print(\"mode_id:\",mode_idx)\n",
    "mode_val = mode[mode_idx]\n",
    "\n",
    "print(\"Mode:\", mode_val)"
   ]
  },
  {
   "cell_type": "code",
   "execution_count": 16,
   "id": "ba724366",
   "metadata": {},
   "outputs": [
    {
     "name": "stdout",
     "output_type": "stream",
     "text": [
      "Standard deviation: 2.581988897471611\n"
     ]
    }
   ],
   "source": [
    "# standard deviation of all elements in the array\n",
    "print(\"Standard deviation:\", np.std(arr))"
   ]
  },
  {
   "cell_type": "code",
   "execution_count": 19,
   "id": "095b0aa4",
   "metadata": {},
   "outputs": [
    {
     "name": "stdout",
     "output_type": "stream",
     "text": [
      "Variance: 6.666666666666667\n"
     ]
    }
   ],
   "source": [
    "# variance of all elements in the array\n",
    "print(\"Variance:\", np.var(arr))"
   ]
  },
  {
   "cell_type": "code",
   "execution_count": 20,
   "id": "41e9f4a3",
   "metadata": {},
   "outputs": [
    {
     "name": "stdout",
     "output_type": "stream",
     "text": [
      "Minimum: 1\n",
      "Maximum: 9\n",
      "Index of minimum: 0\n",
      "Index of maximum: 8\n"
     ]
    }
   ],
   "source": [
    "# Minimum value of all elements in the array\n",
    "print(\"Minimum:\", np.min(arr))\n",
    "\n",
    "# Maximum value of all elements in the array\n",
    "print(\"Maximum:\", np.max(arr))\n",
    "\n",
    "# Index of the minimum value in the array\n",
    "print(\"Index of minimum:\", np.argmin(arr))\n",
    "\n",
    "# Index of the maximum value in the array\n",
    "print(\"Index of maximum:\", np.argmax(arr))"
   ]
  },
  {
   "cell_type": "code",
   "execution_count": 22,
   "id": "6bfe6571",
   "metadata": {},
   "outputs": [
    {
     "name": "stdout",
     "output_type": "stream",
     "text": [
      "50th Percentile: 3.0\n",
      "50th Percentile: 5.0\n",
      "50th Percentile: 7.0\n"
     ]
    }
   ],
   "source": [
    "# Calculate the 25th percentile\n",
    "percentile = np.percentile(arr, 25)\n",
    "print(\"50th Percentile:\", percentile)\n",
    "\n",
    "# Calculate the 50th percentile\n",
    "percentile = np.percentile(arr, 50)\n",
    "print(\"50th Percentile:\", percentile)\n",
    "\n",
    "# Calculate the 75th percentile\n",
    "percentile = np.percentile(arr, 75)\n",
    "print(\"50th Percentile:\", percentile)"
   ]
  },
  {
   "cell_type": "code",
   "execution_count": 23,
   "id": "b9ab6782",
   "metadata": {},
   "outputs": [
    {
     "name": "stdout",
     "output_type": "stream",
     "text": [
      "Correlation Coefficient: 0.9999999999999999\n"
     ]
    }
   ],
   "source": [
    "arr1 = np.array([1, 2, 3, 4, 5])\n",
    "arr2 = np.array([2, 4, 6, 8, 10])\n",
    "\n",
    "# Calculate the correlation coefficient\n",
    "corr_coeff = np.corrcoef(arr1, arr2)[0, 1]\n",
    "\n",
    "print(\"Correlation Coefficient:\", corr_coeff)"
   ]
  },
  {
   "cell_type": "code",
   "execution_count": 24,
   "id": "c0192ee3",
   "metadata": {},
   "outputs": [
    {
     "data": {
      "image/png": "[encoded data removed]",
      "text/plain": [
       "<Figure size 432x288 with 1 Axes>"
      ]
     },
     "metadata": {
      "needs_background": "light"
     },
     "output_type": "display_data"
    }
   ],
   "source": [
    "import matplotlib.pyplot as plt\n",
    "\n",
    "# Creating array with 100000 samples from a normal distribution\n",
    "mu, sigma = 0, 0.1\n",
    "samples = np.random.normal(mu, sigma, 100000)\n",
    "\n",
    "# Plot the histogram of the samples\n",
    "count, bins, ignored = plt.hist(samples, 30, density=True)\n",
    "\n",
    "# Plot the normal distribution\n",
    "plt.plot(bins, 1/(sigma * np.sqrt(2 * np.pi)) * np.exp(-(bins - mu)**2 / (2 * sigma**2)), linewidth=2, color='r')\n",
    "\n",
    "# Show the plot\n",
    "plt.show()"
   ]
  },
  {
   "cell_type": "markdown",
   "id": "f7a4a5ad",
   "metadata": {},
   "source": [
    "# Linear Algebra"
   ]
  },
  {
   "cell_type": "code",
   "execution_count": 26,
   "id": "98910806",
   "metadata": {},
   "outputs": [
    {
     "name": "stdout",
     "output_type": "stream",
     "text": [
      "Vector:\n",
      " [1 2 3]\n",
      "Matrix:\n",
      " [[1 2 3]\n",
      " [4 5 6]\n",
      " [7 8 9]]\n",
      "Identity Matrix:\n",
      " [[1. 0. 0.]\n",
      " [0. 1. 0.]\n",
      " [0. 0. 1.]]\n",
      "Diagonal Matrix:\n",
      " [[1 0 0]\n",
      " [0 2 0]\n",
      " [0 0 3]]\n"
     ]
    }
   ],
   "source": [
    "# Vector\n",
    "v = np.array([1, 2, 3])\n",
    "print(\"Vector:\\n\", v)\n",
    "\n",
    "# Matrix\n",
    "m = np.array([[1, 2, 3], [4, 5, 6], [7, 8, 9]])\n",
    "print(\"Matrix:\\n\", m)\n",
    "\n",
    "# Identity Matrix\n",
    "i = np.eye(3)\n",
    "print(\"Identity Matrix:\\n\", i)\n",
    "\n",
    "# Diagonal Matrix\n",
    "d = np.diag([1, 2, 3])\n",
    "print(\"Diagonal Matrix:\\n\", d)\n",
    "     "
   ]
  },
  {
   "cell_type": "markdown",
   "id": "6e278102",
   "metadata": {},
   "source": [
    "## Matrix Operations "
   ]
  },
  {
   "cell_type": "code",
   "execution_count": 27,
   "id": "04d938c2",
   "metadata": {},
   "outputs": [
    {
     "name": "stdout",
     "output_type": "stream",
     "text": [
      "Matrix Addition:\n",
      " [[10 10 10]\n",
      " [10 10 10]\n",
      " [10 10 10]]\n"
     ]
    }
   ],
   "source": [
    "m1 = np.array([[1, 2, 3], [4, 5, 6], [7, 8, 9]])\n",
    "m2 = np.array([[9, 8, 7], [6, 5, 4], [3, 2, 1]])\n",
    "\n",
    "# Add Matrices\n",
    "m_sum = m1 + m2\n",
    "\n",
    "# Print the result\n",
    "print(\"Matrix Addition:\\n\", m_sum)"
   ]
  },
  {
   "cell_type": "code",
   "execution_count": 29,
   "id": "8ebfc72b",
   "metadata": {},
   "outputs": [
    {
     "name": "stdout",
     "output_type": "stream",
     "text": [
      "Matrix Multiplication:\n",
      " [[ 30  24  18]\n",
      " [ 84  69  54]\n",
      " [138 114  90]]\n"
     ]
    }
   ],
   "source": [
    "m_prod = m1 @ m2\n",
    "\n",
    "print(\"Matrix Multiplication:\\n\", m_prod)"
   ]
  },
  {
   "cell_type": "code",
   "execution_count": 30,
   "id": "887be03b",
   "metadata": {},
   "outputs": [
    {
     "name": "stdout",
     "output_type": "stream",
     "text": [
      "Matrix Transpose:\n",
      " [[1 4 7]\n",
      " [2 5 8]\n",
      " [3 6 9]]\n"
     ]
    }
   ],
   "source": [
    "\n",
    "# Transpose Matrix\n",
    "m_trans = m1.T\n",
    "\n",
    "print(\"Matrix Transpose:\\n\", m_trans)"
   ]
  },
  {
   "cell_type": "code",
   "execution_count": 35,
   "id": "5b2e29d2",
   "metadata": {},
   "outputs": [
    {
     "name": "stdout",
     "output_type": "stream",
     "text": [
      "Matrix Determinant: -9.51619735392994e-16\n"
     ]
    }
   ],
   "source": [
    "m1 = np.array([[1, 2, 3], [4, 5, 6], [7, 8, 9]])\n",
    "m_det = np.linalg.det(m1)\n",
    "\n",
    "print(\"Matrix Determinant:\", m_det)"
   ]
  },
  {
   "cell_type": "code",
   "execution_count": 36,
   "id": "7a1b0aa5",
   "metadata": {},
   "outputs": [
    {
     "name": "stdout",
     "output_type": "stream",
     "text": [
      "Matrix Inverse:\n",
      " [[ 3.15251974e+15 -6.30503948e+15  3.15251974e+15]\n",
      " [-6.30503948e+15  1.26100790e+16 -6.30503948e+15]\n",
      " [ 3.15251974e+15 -6.30503948e+15  3.15251974e+15]]\n"
     ]
    }
   ],
   "source": [
    "m_inv = np.linalg.inv(m1)\n",
    "\n",
    "print(\"Matrix Inverse:\\n\", m_inv)"
   ]
  },
  {
   "cell_type": "code",
   "execution_count": 37,
   "id": "2ef8b528",
   "metadata": {},
   "outputs": [
    {
     "name": "stdout",
     "output_type": "stream",
     "text": [
      "Matrix Rank: 2\n"
     ]
    }
   ],
   "source": [
    "# Rank\n",
    "m_rank = np.linalg.matrix_rank(m1)\n",
    "\n",
    "# Print the result\n",
    "print(\"Matrix Rank:\", m_rank)"
   ]
  },
  {
   "cell_type": "code",
   "execution_count": 38,
   "id": "917a9b51",
   "metadata": {},
   "outputs": [
    {
     "name": "stdout",
     "output_type": "stream",
     "text": [
      "Eigenvalues and Eigenvectors:\n",
      " (array([ 1.61168440e+01, -1.11684397e+00, -3.38433605e-16]), array([[-0.23197069, -0.78583024,  0.40824829],\n",
      "       [-0.52532209, -0.08675134, -0.81649658],\n",
      "       [-0.8186735 ,  0.61232756,  0.40824829]]))\n"
     ]
    }
   ],
   "source": [
    "m_eig = np.linalg.eig(m1)\n",
    "\n",
    "print(\"Eigenvalues and Eigenvectors:\\n\", m_eig)"
   ]
  },
  {
   "cell_type": "code",
   "execution_count": 42,
   "id": "d473270f",
   "metadata": {},
   "outputs": [
    {
     "name": "stdout",
     "output_type": "stream",
     "text": [
      "Solutions to Linear Equations: [-0.14285714  2.71428571]\n"
     ]
    }
   ],
   "source": [
    "# Solving Linear Equations\n",
    "\n",
    "# coefficients and constants\n",
    "A = np.array([[1, 3], [6, 4]])\n",
    "b = np.array([8, 10])\n",
    "\n",
    "x = np.linalg.solve(A, b)  # Ax=b\n",
    "\n",
    "print(\"Solutions to Linear Equations:\", x)"
   ]
  },
  {
   "cell_type": "code",
   "execution_count": null,
   "id": "3487dec6",
   "metadata": {},
   "outputs": [],
   "source": []
  }
 ],
 "metadata": {
  "kernelspec": {
   "display_name": "Python 3 (ipykernel)",
   "language": "python",
   "name": "python3"
  },
  "language_info": {
   "codemirror_mode": {
    "name": "ipython",
    "version": 3
   },
   "file_extension": ".py",
   "mimetype": "text/x-python",
   "name": "python",
   "nbconvert_exporter": "python",
   "pygments_lexer": "ipython3",
   "version": "3.9.7"
  }
 },
 "nbformat": 4,
 "nbformat_minor": 5
}
