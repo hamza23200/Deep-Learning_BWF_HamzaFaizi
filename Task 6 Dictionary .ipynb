{
 "cells": [
  {
   "cell_type": "markdown",
   "id": "1e8b402d",
   "metadata": {},
   "source": [
    "# Dictionary"
   ]
  },
  {
   "cell_type": "code",
   "execution_count": 1,
   "id": "af64de89",
   "metadata": {},
   "outputs": [
    {
     "name": "stdout",
     "output_type": "stream",
     "text": [
      "{'mangoes': 5, 'oranges': 10, 'apples': 15}\n",
      "------------------\n",
      "{'mangoes': 5, 'oranges': 10, 'apples': 15}\n",
      "------------------\n",
      "5\n",
      "10\n",
      "15\n",
      "------------------\n",
      "dict_keys(['mangoes', 'oranges', 'apples'])\n",
      "------------------\n",
      "{'mangoes': 5, 'oranges': 10, 'apples': 15, 'gauva': 20}\n",
      "{'mangoes': 5, 'oranges': 10, 'apples': 15}\n"
     ]
    }
   ],
   "source": [
    "fruit_dict = {\n",
    "    \"mangoes\" : 5,\n",
    "    \"oranges\" : 10,\n",
    "    \"apples\" : 15\n",
    "}\n",
    "print(fruit_dict)\n",
    "print(\"------------------\")\n",
    "\n",
    "# using dict() to create dictionary\n",
    "fruit_dict = dict({\"mangoes\" : 5, \"oranges\" : 10, \"apples\" : 15})\n",
    "print(fruit_dict)\n",
    "print(\"------------------\")\n",
    "\n",
    "# accessing values\n",
    "print(fruit_dict[\"mangoes\"])\n",
    "print(fruit_dict[\"oranges\"])\n",
    "print(fruit_dict[\"apples\"])\n",
    "print(\"------------------\")\n",
    "\n",
    "# accessing keys\n",
    "print(fruit_dict.keys())\n",
    "print(\"------------------\")\n",
    "\n",
    "# add a new key value pair\n",
    "fruit_dict[\"gauva\"] = 20\n",
    "print(fruit_dict)\n",
    "\n",
    "# remove a key value pair\n",
    "fruit_dict.pop(\"gauva\")\n",
    "print(fruit_dict)"
   ]
  },
  {
   "cell_type": "code",
   "execution_count": 2,
   "id": "31c10fc9",
   "metadata": {},
   "outputs": [
    {
     "ename": "SyntaxError",
     "evalue": "invalid syntax (Temp/ipykernel_20360/2139136645.py, line 1)",
     "output_type": "error",
     "traceback": [
      "\u001b[1;36m  File \u001b[1;32m\"C:\\Users\\hamza\\AppData\\Local\\Temp/ipykernel_20360/2139136645.py\"\u001b[1;36m, line \u001b[1;32m1\u001b[0m\n\u001b[1;33m    clear()\t       Removes all the elements from the dictionary\u001b[0m\n\u001b[1;37m           \t       ^\u001b[0m\n\u001b[1;31mSyntaxError\u001b[0m\u001b[1;31m:\u001b[0m invalid syntax\n"
     ]
    }
   ],
   "source": [
    "clear()\t       Removes all the elements from the dictionary\n",
    "copy()\t       Returns a copy of the dictionary\n",
    "fromkeys       ()\tReturns a dictionary with the specified keys and value\n",
    "get()\t       Returns the value of the specified key\n",
    "items()\t       Returns a list containing a tuple for each key value pair\n",
    "keys()\t       Returns a list containing the dictionary's keys\n",
    "pop()\t       Removes the element with the specified key\n",
    "popitem()\t   Removes the last inserted key-value pair\n",
    "setdefault()   Returns the value of the specified key. If the key does not exist: insert the key, with the specified value\n",
    "update()\t   Updates the dictionary with the specified key-value pairs\n",
    "values()\t   Returns a list of all the values in the dictionary"
   ]
  },
  {
   "cell_type": "code",
   "execution_count": null,
   "id": "7b9670e7",
   "metadata": {},
   "outputs": [],
   "source": []
  }
 ],
 "metadata": {
  "kernelspec": {
   "display_name": "Python 3 (ipykernel)",
   "language": "python",
   "name": "python3"
  },
  "language_info": {
   "codemirror_mode": {
    "name": "ipython",
    "version": 3
   },
   "file_extension": ".py",
   "mimetype": "text/x-python",
   "name": "python",
   "nbconvert_exporter": "python",
   "pygments_lexer": "ipython3",
   "version": "3.9.7"
  }
 },
 "nbformat": 4,
 "nbformat_minor": 5
}
