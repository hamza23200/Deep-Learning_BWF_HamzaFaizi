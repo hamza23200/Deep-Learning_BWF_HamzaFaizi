{
 "cells": [
  {
   "cell_type": "markdown",
   "id": "33cecb04",
   "metadata": {},
   "source": [
    "Numpy used bcz its operations 10-100 times faster than list"
   ]
  },
  {
   "cell_type": "markdown",
   "id": "0df0a10e",
   "metadata": {},
   "source": [
    "Easy to apply operations as compare to lists like arithematic"
   ]
  },
  {
   "cell_type": "code",
   "execution_count": 2,
   "id": "24a17979",
   "metadata": {},
   "outputs": [],
   "source": [
    "import numpy as np"
   ]
  },
  {
   "cell_type": "markdown",
   "id": "cbdbfa15",
   "metadata": {},
   "source": [
    "## 1D Array from list"
   ]
  },
  {
   "cell_type": "code",
   "execution_count": 3,
   "id": "7f299895",
   "metadata": {},
   "outputs": [
    {
     "data": {
      "text/plain": [
       "array([24, 25, 53, 18, 24,  9,  7,  6, 10])"
      ]
     },
     "execution_count": 3,
     "metadata": {},
     "output_type": "execute_result"
    }
   ],
   "source": [
    "python_list = [24,25,53,18,24,9,7,6,10]\n",
    "array = np.array(python_list)\n",
    "array"
   ]
  },
  {
   "cell_type": "markdown",
   "id": "54553e61",
   "metadata": {},
   "source": [
    "## 2D  Array"
   ]
  },
  {
   "cell_type": "code",
   "execution_count": 9,
   "id": "79c8ea9d",
   "metadata": {},
   "outputs": [
    {
     "data": {
      "text/plain": [
       "array([[4, 0, 5],\n",
       "       [9, 7, 1],\n",
       "       [8, 3, 6]])"
      ]
     },
     "execution_count": 9,
     "metadata": {},
     "output_type": "execute_result"
    }
   ],
   "source": [
    "python_list_of_lists = [[4,0,5],\n",
    "                        [9,7,1],\n",
    "                        [8,3,6]\n",
    "    \n",
    "]\n",
    "array2 = np.array(python_list_of_lists)\n",
    "array2\n"
   ]
  },
  {
   "cell_type": "code",
   "execution_count": 11,
   "id": "3cb03618",
   "metadata": {},
   "outputs": [
    {
     "data": {
      "text/plain": [
       "(3, 3)"
      ]
     },
     "execution_count": 11,
     "metadata": {},
     "output_type": "execute_result"
    }
   ],
   "source": [
    "array2.shape"
   ]
  },
  {
   "cell_type": "markdown",
   "id": "d0b6524c",
   "metadata": {},
   "source": [
    "## Array of 0's"
   ]
  },
  {
   "cell_type": "code",
   "execution_count": 19,
   "id": "1d8a0f20",
   "metadata": {},
   "outputs": [
    {
     "data": {
      "text/plain": [
       "array([[0., 0., 0.],\n",
       "       [0., 0., 0.]])"
      ]
     },
     "execution_count": 19,
     "metadata": {},
     "output_type": "execute_result"
    }
   ],
   "source": [
    "arr3=np.zeros((2,3))\n",
    "arr3"
   ]
  },
  {
   "cell_type": "markdown",
   "id": "5d7f21d0",
   "metadata": {},
   "source": [
    "## Random"
   ]
  },
  {
   "cell_type": "code",
   "execution_count": 20,
   "id": "32d7508b",
   "metadata": {},
   "outputs": [
    {
     "data": {
      "text/plain": [
       "array([[0.91531605, 0.47100135]])"
      ]
     },
     "execution_count": 20,
     "metadata": {},
     "output_type": "execute_result"
    }
   ],
   "source": [
    "np.random.random((1,2))"
   ]
  },
  {
   "cell_type": "markdown",
   "id": "4c535dfd",
   "metadata": {},
   "source": [
    "## Arrange"
   ]
  },
  {
   "cell_type": "code",
   "execution_count": 21,
   "id": "c891aa67",
   "metadata": {},
   "outputs": [
    {
     "data": {
      "text/plain": [
       "array([-5, -4, -3, -2, -1,  0,  1,  2,  3,  4,  5])"
      ]
     },
     "execution_count": 21,
     "metadata": {},
     "output_type": "execute_result"
    }
   ],
   "source": [
    "np.arange(-5,6)\n",
    "     "
   ]
  },
  {
   "cell_type": "markdown",
   "id": "606a273f",
   "metadata": {},
   "source": [
    "## 3D Array  "
   ]
  },
  {
   "cell_type": "code",
   "execution_count": 23,
   "id": "c0616658",
   "metadata": {},
   "outputs": [
    {
     "data": {
      "text/plain": [
       "array([[[1, 2],\n",
       "        [3, 4]],\n",
       "\n",
       "       [[5, 6],\n",
       "        [7, 8]],\n",
       "\n",
       "       [[9, 0],\n",
       "        [6, 9]]])"
      ]
     },
     "execution_count": 23,
     "metadata": {},
     "output_type": "execute_result"
    }
   ],
   "source": [
    "array_1 = np.array([[1, 2],[3, 4]])\n",
    "array_2 = np.array([[5, 6], [7, 8]])\n",
    "array_3 = np.array([[9, 0], [6,9]])\n",
    "array_3D = np.array([array_1, array_2, array_3])\n",
    "array_3D\n",
    "     "
   ]
  },
  {
   "cell_type": "markdown",
   "id": "c830a58d",
   "metadata": {},
   "source": [
    "## 4D Array "
   ]
  },
  {
   "cell_type": "code",
   "execution_count": 24,
   "id": "362ddd3c",
   "metadata": {},
   "outputs": [],
   "source": [
    "array_1_3D = np.array([array_1, array_2, array_3])\n",
    "array_2_3D = np.array([array_1, array_3, array_2])\n",
    "array_3_3D = np.array([array_2, array_3, array_1])\n",
    "array_4_3D = np.array([array_2, array_1, array_3])\n",
    "array_5_3D = np.array([array_3, array_1, array_2])"
   ]
  },
  {
   "cell_type": "code",
   "execution_count": 26,
   "id": "f5033e97",
   "metadata": {},
   "outputs": [
    {
     "data": {
      "text/plain": [
       "array([[[[1, 2],\n",
       "         [3, 4]],\n",
       "\n",
       "        [[5, 6],\n",
       "         [7, 8]],\n",
       "\n",
       "        [[9, 0],\n",
       "         [6, 9]]],\n",
       "\n",
       "\n",
       "       [[[1, 2],\n",
       "         [3, 4]],\n",
       "\n",
       "        [[9, 0],\n",
       "         [6, 9]],\n",
       "\n",
       "        [[5, 6],\n",
       "         [7, 8]]],\n",
       "\n",
       "\n",
       "       [[[5, 6],\n",
       "         [7, 8]],\n",
       "\n",
       "        [[9, 0],\n",
       "         [6, 9]],\n",
       "\n",
       "        [[1, 2],\n",
       "         [3, 4]]],\n",
       "\n",
       "\n",
       "       [[[5, 6],\n",
       "         [7, 8]],\n",
       "\n",
       "        [[1, 2],\n",
       "         [3, 4]],\n",
       "\n",
       "        [[9, 0],\n",
       "         [6, 9]]],\n",
       "\n",
       "\n",
       "       [[[9, 0],\n",
       "         [6, 9]],\n",
       "\n",
       "        [[1, 2],\n",
       "         [3, 4]],\n",
       "\n",
       "        [[5, 6],\n",
       "         [7, 8]]]])"
      ]
     },
     "execution_count": 26,
     "metadata": {},
     "output_type": "execute_result"
    }
   ],
   "source": [
    "array_4D = np.array ( [array_1_3D, array_2_3D, array_3_3D, array_4_3D, array_5_3D])\n",
    "array_4D"
   ]
  },
  {
   "cell_type": "markdown",
   "id": "2e717f2c",
   "metadata": {},
   "source": [
    "## Type Conversion "
   ]
  },
  {
   "cell_type": "code",
   "execution_count": 27,
   "id": "936b03cd",
   "metadata": {},
   "outputs": [
    {
     "data": {
      "text/plain": [
       "array([[1, 0],\n",
       "       [1, 0]])"
      ]
     },
     "execution_count": 27,
     "metadata": {},
     "output_type": "execute_result"
    }
   ],
   "source": [
    "boolean_array = np.array([[True, False],[True, False],], dtype = np.bool_)\n",
    "boolean_array.astype(np.int32)"
   ]
  },
  {
   "cell_type": "code",
   "execution_count": 28,
   "id": "050fce71",
   "metadata": {},
   "outputs": [
    {
     "data": {
      "text/plain": [
       "array(['hoo', '23', '68.34', 'False'], dtype='<U32')"
      ]
     },
     "execution_count": 28,
     "metadata": {},
     "output_type": "execute_result"
    }
   ],
   "source": [
    "# type corecion\n",
    "np.array([\"hoo\",23, 68.34, False]) #it converts all the values to string "
   ]
  },
  {
   "cell_type": "markdown",
   "id": "742f8262",
   "metadata": {},
   "source": [
    "## Arithmetic with NumPy Arrays "
   ]
  },
  {
   "cell_type": "code",
   "execution_count": 39,
   "id": "e280b836",
   "metadata": {},
   "outputs": [
    {
     "name": "stdout",
     "output_type": "stream",
     "text": [
      "Array 1:\n",
      " [[8 4 5]\n",
      " [7 8 8]\n",
      " [9 2 5]]\n",
      "Array 2:\n",
      " [[ 9  4  5]\n",
      " [ 9  8  4]\n",
      " [ 3  1 10]]\n",
      "Element-wise addition:\n",
      " [[17  8 10]\n",
      " [16 16 12]\n",
      " [12  3 15]]\n",
      "Element-wise subtraction:\n",
      " [[-1  0  0]\n",
      " [-2  0  4]\n",
      " [ 6  1 -5]]\n",
      "Element-wise multiplication:\n",
      " [[72 16 25]\n",
      " [63 64 32]\n",
      " [27  2 50]]\n",
      "Element-wise division:\n",
      " [[0.88888889 1.         1.        ]\n",
      " [0.77777778 1.         2.        ]\n",
      " [3.         2.         0.5       ]]\n"
     ]
    }
   ],
   "source": [
    "# create two arrays with random numbers\n",
    "arr1 = np.random.randint(1, 11, size=(3,3))\n",
    "arr2 = np.random.randint(1, 11, size=(3,3))\n",
    "\n",
    "# perform element-wise arithmetic operations\n",
    "addition = arr1 + arr2\n",
    "substraction = arr1 - arr2\n",
    "multiplication = arr1 * arr2\n",
    "division = arr1 / arr2 \n",
    "\n",
    "print(\"Array 1:\\n\", arr1)\n",
    "print(\"Array 2:\\n\", arr2)\n",
    "print(\"Element-wise addition:\\n\", addition)\n",
    "print(\"Element-wise subtraction:\\n\", substraction)\n",
    "print(\"Element-wise multiplication:\\n\", multiplication)\n",
    "print(\"Element-wise division:\\n\", division)"
   ]
  },
  {
   "cell_type": "code",
   "execution_count": 49,
   "id": "0fdaa403",
   "metadata": {},
   "outputs": [
    {
     "name": "stdout",
     "output_type": "stream",
     "text": [
      "Element-wise division:\n",
      " [[134217728       256      3125]\n",
      " [ 40353607  16777216      4096]\n",
      " [      729         2   9765625]]\n"
     ]
    },
    {
     "data": {
      "text/plain": [
       "array([[134217728,       256,      3125],\n",
       "       [ 40353607,  16777216,      4096],\n",
       "       [      729,         2,   9765625]], dtype=int32)"
      ]
     },
     "execution_count": 49,
     "metadata": {},
     "output_type": "execute_result"
    }
   ],
   "source": [
    "power= arr1**arr2\n",
    "print(\"Element-wise division:\\n\",power)\n",
    "\n",
    "np.power(arr1,arr2)"
   ]
  },
  {
   "cell_type": "code",
   "execution_count": 66,
   "id": "b06310d5",
   "metadata": {},
   "outputs": [
    {
     "name": "stdout",
     "output_type": "stream",
     "text": [
      "Original array:\n",
      " [[8 4 5]\n",
      " [7 8 8]\n",
      " [9 2 5]]\n",
      "Transpose:\n",
      " [[8 7 9]\n",
      " [4 8 2]\n",
      " [5 8 5]]\n",
      "Dot product with transpose:\n",
      " [[105 128 105]\n",
      " [128 177 119]\n",
      " [105 119 110]]\n",
      "Element-wise exponential:\n",
      " [[2.98095799e+03 5.45981500e+01 1.48413159e+02]\n",
      " [1.09663316e+03 2.98095799e+03 2.98095799e+03]\n",
      " [8.10308393e+03 7.38905610e+00 1.48413159e+02]]\n"
     ]
    }
   ],
   "source": [
    "arr_T = arr1.T #column becomes row \n",
    "arr_dot = np.dot (arr1 , arr_T)\n",
    "arr_exp = np.exp(arr1)\n",
    "\n",
    "print(\"Original array:\\n\", arr1)\n",
    "print(\"Transpose:\\n\", arr_T)\n",
    "print(\"Dot product with transpose:\\n\", arr_dot)\n",
    "print(\"Element-wise exponential:\\n\", arr_exp)"
   ]
  },
  {
   "cell_type": "markdown",
   "id": "4492394e",
   "metadata": {},
   "source": [
    "## Shaping "
   ]
  },
  {
   "cell_type": "code",
   "execution_count": 67,
   "id": "0af710aa",
   "metadata": {},
   "outputs": [
    {
     "data": {
      "text/plain": [
       "array([[ 6, 18,  4],\n",
       "       [ 0, 14, 19]])"
      ]
     },
     "execution_count": 67,
     "metadata": {},
     "output_type": "execute_result"
    }
   ],
   "source": [
    "arrl=np.random.randint(0,20, size=(2,3))\n",
    "arrl"
   ]
  },
  {
   "cell_type": "code",
   "execution_count": 68,
   "id": "6af4dcc9",
   "metadata": {},
   "outputs": [
    {
     "data": {
      "text/plain": [
       "array([ 6, 18,  4,  0, 14, 19])"
      ]
     },
     "execution_count": 68,
     "metadata": {},
     "output_type": "execute_result"
    }
   ],
   "source": [
    "arrl.flatten()"
   ]
  },
  {
   "cell_type": "code",
   "execution_count": 69,
   "id": "82e926ae",
   "metadata": {},
   "outputs": [
    {
     "data": {
      "text/plain": [
       "array([[ 6, 18],\n",
       "       [ 4,  0],\n",
       "       [14, 19]])"
      ]
     },
     "execution_count": 69,
     "metadata": {},
     "output_type": "execute_result"
    }
   ],
   "source": [
    "arrl.reshape(3,2)"
   ]
  },
  {
   "cell_type": "markdown",
   "id": "11d81ea2",
   "metadata": {},
   "source": [
    "## Basic Indexing and Slicing in numpy "
   ]
  },
  {
   "cell_type": "markdown",
   "id": "e8297e58",
   "metadata": {},
   "source": [
    "**Indexing** "
   ]
  },
  {
   "cell_type": "code",
   "execution_count": 70,
   "id": "f7d7be0c",
   "metadata": {},
   "outputs": [
    {
     "name": "stdout",
     "output_type": "stream",
     "text": [
      "3\n",
      "6\n"
     ]
    }
   ],
   "source": [
    "arr = np.array([1, 2, 3, 4, 5])\n",
    "print(arr[2])  \n",
    "\n",
    "arr2 = np.array([[1, 2, 3], [4, 5, 6], [7, 8, 9]])\n",
    "print(arr2[1, 2])  "
   ]
  },
  {
   "cell_type": "markdown",
   "id": "dc3d0bca",
   "metadata": {},
   "source": [
    "**Slicing**"
   ]
  },
  {
   "cell_type": "code",
   "execution_count": 82,
   "id": "77c9a200",
   "metadata": {},
   "outputs": [
    {
     "name": "stdout",
     "output_type": "stream",
     "text": [
      "[2 3 4]\n",
      "[[2 3]\n",
      " [5 6]]\n"
     ]
    }
   ],
   "source": [
    "arr = np.array([1, 2, 3, 4, 5])\n",
    "print(arr[1:4])  # 2nd to 4th position\n",
    "\n",
    "arr2 = np.array([[1, 2, 3], [4, 5, 6], [7, 8, 9]])\n",
    "print(arr2[0:2, 1:3]) #ROW , COLUMN  ROW= FIRST 2  COLUMN=2ND,3RD (1:3) IF 2ND ONLY (1:2)"
   ]
  },
  {
   "cell_type": "markdown",
   "id": "24f3baab",
   "metadata": {},
   "source": [
    "**Boolean Indexing**"
   ]
  },
  {
   "cell_type": "code",
   "execution_count": 85,
   "id": "4bb11045",
   "metadata": {},
   "outputs": [
    {
     "name": "stdout",
     "output_type": "stream",
     "text": [
      "[4 5]\n",
      "[6 7 8 9]\n"
     ]
    }
   ],
   "source": [
    "#using conditions\n",
    "arr = np.array([1, 2, 3, 4, 5])\n",
    "print(arr[arr > 3])  \n",
    "\n",
    "arr2 = np.array([[1, 2, 3], [4, 5, 6], [7, 8, 9]])\n",
    "print(arr2[arr2 > 5])  "
   ]
  },
  {
   "cell_type": "code",
   "execution_count": null,
   "id": "027dcf1e",
   "metadata": {},
   "outputs": [],
   "source": [
    "# Create a 2D NumPy array\n",
    "arr = np.array([[1, 2, 3],\n",
    "                [4, 5, 6],\n",
    "                [7, 8, 9]])\n",
    "\n",
    "# Compute the sum of all elements in the array\n",
    "print(\"Sum:\", np.sum(arr))\n",
    "\n",
    "# Compute the mean of all elements in the array\n",
    "print(\"Mean:\", np.mean(arr))\n",
    "\n",
    "# Compute the standard deviation of all elements in the array\n",
    "print(\"Standard deviation:\", np.std(arr))\n",
    "\n",
    "# Compute the minimum value of all elements in the array\n",
    "print(\"Minimum:\", np.min(arr))\n",
    "\n",
    "# Compute the maximum value of all elements in the array\n",
    "print(\"Maximum:\", np.max(arr))\n",
    "\n",
    "# Compute the index of the minimum value in the array\n",
    "print(\"Index of minimum:\", np.argmin(arr))\n",
    "\n",
    "# Compute the index of the maximum value in the array\n",
    "print(\"Index of maximum:\", np.argmax(arr))\n",
    "\n",
    "# Compute the median value of all elements in the array\n",
    "print(\"Median:\", np.median(arr))\n",
    "\n",
    "# Compute the 25th and 75th percentiles of all elements in the array\n",
    "print(\"25th percentile:\", np.percentile(arr, 25))\n",
    "print(\"75th percentile:\", np.percentile(arr, 75))\n",
    "\n",
    "# Compute a histogram of the values in the array using 3 bins\n",
    "hist, bins = np.histogram(arr, bins=3)\n",
    "print(\"Histogram:\", hist)\n",
    "print(\"Bins:\", bins)"
   ]
  }
 ],
 "metadata": {
  "kernelspec": {
   "display_name": "Python 3 (ipykernel)",
   "language": "python",
   "name": "python3"
  },
  "language_info": {
   "codemirror_mode": {
    "name": "ipython",
    "version": 3
   },
   "file_extension": ".py",
   "mimetype": "text/x-python",
   "name": "python",
   "nbconvert_exporter": "python",
   "pygments_lexer": "ipython3",
   "version": "3.9.7"
  }
 },
 "nbformat": 4,
 "nbformat_minor": 5
}
