{
 "cells": [
  {
   "cell_type": "markdown",
   "id": "e311f265",
   "metadata": {},
   "source": [
    "# Functions"
   ]
  },
  {
   "cell_type": "code",
   "execution_count": 5,
   "id": "35115823",
   "metadata": {},
   "outputs": [
    {
     "name": "stdout",
     "output_type": "stream",
     "text": [
      "\n",
      "8-1-----\n",
      "I am learning functions in this chapter\n",
      "\n",
      "8-2-----\n",
      "My favorite book to read is Kite Runner\n",
      "\n",
      "8-3-----\n",
      " I want a shirt of size 14 with 'hello world' message\n",
      "\n",
      "8-4-----\n",
      " I want a shirt of size  Large with ''I love Python'' message\n",
      " I want a shirt of size  medium with 'I love Python' message\n",
      " I want a shirt of size  small with 'I love Python' message\n"
     ]
    }
   ],
   "source": [
    "print(\"\\n8-1-----\")\n",
    "\n",
    "def display_message():\n",
    "    print(\"I am learning functions in this chapter\")\n",
    "display_message()\n",
    "\n",
    "\n",
    "\n",
    "print(\"\\n8-2-----\")\n",
    "def favorite_book(title):\n",
    "    print(\"My favorite book to read is {}\".format(title))\n",
    "    \n",
    "favorite_book(\"Kite Runner\")\n",
    "\n",
    "\n",
    "\n",
    "print(\"\\n8-3-----\")\n",
    "def make_shirt(size, text_message):\n",
    "    print(\" I want a shirt of size {} with '{}' message\".format(size, text_message))\n",
    "    \n",
    "make_shirt(14,'hello world')\n",
    "\n",
    "\n",
    "\n",
    "print(\"\\n8-4-----\")\n",
    "def make_shirt(text_message, size = 'Large'):\n",
    "    print(\" I want a shirt of size  {0} with '{1}' message\".format(size, text_message))\n",
    "    \n",
    "make_shirt(\"'I love Python'\")\n",
    "make_shirt(size = 'medium', text_message = 'I love Python')\n",
    "make_shirt(size='small', text_message='I love Python')\n"
   ]
  },
  {
   "cell_type": "code",
   "execution_count": 6,
   "id": "5ca07d1e",
   "metadata": {},
   "outputs": [
    {
     "name": "stdout",
     "output_type": "stream",
     "text": [
      "\n",
      "8-5-----\n",
      "Lahore is located in pakistan\n",
      "Isb is located in pakistan\n",
      "Sialkot is located in pakistan\n",
      "\n",
      "8-6-----\n",
      "Lahore, Pakistan\n",
      "Kl, Malaysia\n",
      "Sydney, Australia\n"
     ]
    },
    {
     "data": {
      "text/plain": [
       "'Sydney, Australia'"
      ]
     },
     "execution_count": 6,
     "metadata": {},
     "output_type": "execute_result"
    }
   ],
   "source": [
    "print(\"\\n8-5-----\")\n",
    "def describe_city(city, country='pakistan'):\n",
    "    print(\"{} is located in {}\".format(city.title(), country))\n",
    "    \n",
    "describe_city('lahore')\n",
    "describe_city('isb')\n",
    "describe_city('sialkot')\n",
    "\n",
    "\n",
    "\n",
    "print(\"\\n8-6-----\")\n",
    "\n",
    "def city_country(city, country):\n",
    "\n",
    "    city_location = \"{}, {}\".format(city.title(), country.title())\n",
    "    print(city_location)\n",
    "    return city_location\n",
    "city_country('lahore', 'pakistan')\n",
    "city_country('KL', 'malaysia')\n",
    "city_country('sydney', 'australia')"
   ]
  },
  {
   "cell_type": "code",
   "execution_count": 3,
   "id": "e92250fe",
   "metadata": {},
   "outputs": [
    {
     "name": "stdout",
     "output_type": "stream",
     "text": [
      "\n",
      "8-7-----\n",
      "{'artist name': 'as', 'album_title': 'assd'}\n",
      "{'artist name': 'Ksdt', 'album_title': 'sdf', 'number of songs': 3}\n"
     ]
    }
   ],
   "source": [
    "print(\"\\n8-7-----\")\n",
    "\n",
    "\n",
    "def make_album(artist_name, album_title, number_of_songs=None):\n",
    "    album = {'artist name': artist_name, 'album_title': album_title}\n",
    "    \n",
    "    if number_of_songs:\n",
    "        album['number of songs'] = number_of_songs\n",
    "    return album\n",
    "\n",
    "\n",
    "musician = make_album('as', 'assd')\n",
    "print(musician)\n",
    "musician = make_album('Ksdt', 'sdf', number_of_songs=3)\n",
    "print(musician)"
   ]
  },
  {
   "cell_type": "code",
   "execution_count": 7,
   "id": "32cab375",
   "metadata": {},
   "outputs": [
    {
     "name": "stdout",
     "output_type": "stream",
     "text": [
      "\n",
      "8-12-----\n",
      "\n",
      "The following will be included with the sandwich: \n",
      "chicken\n",
      "onion\n",
      "tomato\n",
      "\n",
      "The following will be included with the sandwich: \n",
      "burger\n",
      "ketchup\n",
      "mayo\n",
      "\n",
      "The following will be included with the sandwich: \n",
      "lettuce\n",
      "mayo\n",
      "tomato\n"
     ]
    }
   ],
   "source": [
    "print(\"\\n8-12-----\")\n",
    "def making_sandwich(*choices):\n",
    "    print(\"\\nThe following will be included with the sandwich: \")\n",
    "    for choice in choices:\n",
    "        print(choice)\n",
    "\n",
    "\n",
    "making_sandwich('chicken', 'onion', 'tomato')\n",
    "making_sandwich('burger', 'ketchup', 'mayo')\n",
    "making_sandwich( 'lettuce', 'mayo', 'tomato')\n",
    "\n"
   ]
  },
  {
   "cell_type": "code",
   "execution_count": 8,
   "id": "20f587bc",
   "metadata": {},
   "outputs": [
    {
     "name": "stdout",
     "output_type": "stream",
     "text": [
      "\n",
      "8-14-----\n",
      "{'color': 'blue', 'tow_package': True, 'manufacturer': 'suburu', 'model_name': 'outback'}\n"
     ]
    }
   ],
   "source": [
    "print(\"\\n8-14-----\")\n",
    "def make_car(manufacturer, model_name, **car_info):\n",
    "    car_info['manufacturer'] = manufacturer\n",
    "    car_info['model_name'] = model_name\n",
    "    return car_info\n",
    "\n",
    "\n",
    "cars = make_car('suburu', 'outback', color = 'blue', tow_package = True)\n",
    "print(cars)"
   ]
  },
  {
   "cell_type": "markdown",
   "id": "40a1798a",
   "metadata": {},
   "source": [
    "# DocString"
   ]
  },
  {
   "cell_type": "code",
   "execution_count": 9,
   "id": "5b29c3d6",
   "metadata": {},
   "outputs": [
    {
     "name": "stdout",
     "output_type": "stream",
     "text": [
      "Demonstrates docstrings.\n",
      "\n",
      "    multiple lins.\n",
      "  \n",
      "      description of function.\n",
      "  \n",
      "    Parameters:\n",
      "    arg1\n",
      "  \n",
      "    Returns:\n",
      "    int\n",
      "  \n",
      "    \n"
     ]
    }
   ],
   "source": [
    "def my_function():\n",
    "    '''Demonstrates docstrings.''' \n",
    "    return None\n",
    "  \n",
    "print(my_function.__doc__)\n",
    "  \n",
    "def my_function(arg1):\n",
    "    \"\"\"\n",
    "    multiple lins.\n",
    "  \n",
    "      description of function.\n",
    "  \n",
    "    Parameters:\n",
    "    arg1\n",
    "  \n",
    "    Returns:\n",
    "    int\n",
    "  \n",
    "    \"\"\"\n",
    "    return arg1\n",
    "  \n",
    "print(my_function.__doc__)"
   ]
  },
  {
   "cell_type": "code",
   "execution_count": null,
   "id": "2f374ff0",
   "metadata": {},
   "outputs": [],
   "source": []
  }
 ],
 "metadata": {
  "kernelspec": {
   "display_name": "Python 3 (ipykernel)",
   "language": "python",
   "name": "python3"
  },
  "language_info": {
   "codemirror_mode": {
    "name": "ipython",
    "version": 3
   },
   "file_extension": ".py",
   "mimetype": "text/x-python",
   "name": "python",
   "nbconvert_exporter": "python",
   "pygments_lexer": "ipython3",
   "version": "3.9.7"
  }
 },
 "nbformat": 4,
 "nbformat_minor": 5
}
