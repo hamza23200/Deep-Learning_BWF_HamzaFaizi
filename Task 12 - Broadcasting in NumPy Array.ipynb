{
 "cells": [
  {
   "cell_type": "markdown",
   "id": "f3934e56",
   "metadata": {},
   "source": [
    "Broadcasting allows to perform element-wise operations on arrays with different shapes, without having to explicitly reshape or pad the arrays.\n",
    "\n",
    "Can be done if one of the dimesnion is missing like arr(4,3)+arr(4,)"
   ]
  },
  {
   "cell_type": "markdown",
   "id": "cd7e7726",
   "metadata": {},
   "source": [
    "**Adding Two Arrays with Different Sizes**"
   ]
  },
  {
   "cell_type": "code",
   "execution_count": 3,
   "id": "25066e2c",
   "metadata": {},
   "outputs": [
    {
     "name": "stdout",
     "output_type": "stream",
     "text": [
      "[5 6 7]\n"
     ]
    }
   ],
   "source": [
    "import numpy as np\n",
    "\n",
    "a = np.array([1, 2, 3])\n",
    "b = np.array([4])\n",
    "\n",
    "c = a + b\n",
    "print(c)\n",
    "     "
   ]
  },
  {
   "cell_type": "markdown",
   "id": "acbff8e5",
   "metadata": {},
   "source": [
    "**Adding Two Arrays with Different Number of Dimensions**"
   ]
  },
  {
   "cell_type": "code",
   "execution_count": 11,
   "id": "7b1222cf",
   "metadata": {},
   "outputs": [
    {
     "name": "stdout",
     "output_type": "stream",
     "text": [
      "[[ 5  8]\n",
      " [ 7 10]\n",
      " [ 9 12]]\n"
     ]
    }
   ],
   "source": [
    "a = np.array([1, 2, 3])  #(3,)\n",
    "b = np.array([[4, 5, 6], [7, 8, 9]]) #(2,3)\n",
    "\n",
    "c = a[:, np.newaxis] + b.T  # both transposed \n",
    "print(c)\n",
    "     "
   ]
  },
  {
   "cell_type": "code",
   "execution_count": 12,
   "id": "2640e332",
   "metadata": {},
   "outputs": [
    {
     "data": {
      "text/plain": [
       "array([[1],\n",
       "       [2],\n",
       "       [3]])"
      ]
     },
     "execution_count": 12,
     "metadata": {},
     "output_type": "execute_result"
    }
   ],
   "source": [
    "a[:,np.newaxis]"
   ]
  },
  {
   "cell_type": "markdown",
   "id": "67892323",
   "metadata": {},
   "source": [
    "**Multiplying Two Arrays with Different Shapes**"
   ]
  },
  {
   "cell_type": "code",
   "execution_count": 14,
   "id": "1f95b27a",
   "metadata": {},
   "outputs": [
    {
     "name": "stdout",
     "output_type": "stream",
     "text": [
      "[[ 4  5  6]\n",
      " [ 8 10 12]\n",
      " [12 15 18]]\n"
     ]
    }
   ],
   "source": [
    "a = np.array([[1], [2], [3]])    #(3,1)\n",
    "b = np.array([4, 5, 6]) # (3,)\n",
    "\n",
    "c = a * b\n",
    "print(c)"
   ]
  },
  {
   "cell_type": "markdown",
   "id": "aa003e0c",
   "metadata": {},
   "source": [
    "**Computing Outer Product of Two Arrays**"
   ]
  },
  {
   "cell_type": "code",
   "execution_count": 16,
   "id": "d0c79a9e",
   "metadata": {},
   "outputs": [
    {
     "name": "stdout",
     "output_type": "stream",
     "text": [
      "[[ 4  5  6]\n",
      " [ 8 10 12]\n",
      " [12 15 18]]\n"
     ]
    }
   ],
   "source": [
    "import numpy as np\n",
    "\n",
    "a = np.array([1, 2, 3])\n",
    "b = np.array([4, 5, 6])\n",
    "\n",
    "c = np.outer(a, b)\n",
    "print(c)\n"
   ]
  },
  {
   "cell_type": "markdown",
   "id": "9073da7b",
   "metadata": {},
   "source": [
    "**Applying Arithematics directly to an array**"
   ]
  },
  {
   "cell_type": "code",
   "execution_count": 21,
   "id": "b91e5275",
   "metadata": {},
   "outputs": [
    {
     "name": "stdout",
     "output_type": "stream",
     "text": [
      "Addition: [3 4 5]\n",
      "Subtraction: [0 1 2]\n",
      "Multiplication: [2 4 6]\n",
      "Division: [0.5 1.  1.5]\n"
     ]
    }
   ],
   "source": [
    "a=np.array([1,2,3])\n",
    "\n",
    "c = a + 2\n",
    "d = a - 1\n",
    "e = a * 2\n",
    "f = a / 2\n",
    "print(\"Addition:\",c)\n",
    "print(\"Subtraction:\",d)\n",
    "print(\"Multiplication:\",e)\n",
    "print(\"Division:\",f)"
   ]
  },
  {
   "cell_type": "markdown",
   "id": "71b97147",
   "metadata": {},
   "source": [
    "**Broadcasting in Higher Dimensions**"
   ]
  },
  {
   "cell_type": "code",
   "execution_count": 22,
   "id": "b96618b7",
   "metadata": {},
   "outputs": [
    {
     "name": "stdout",
     "output_type": "stream",
     "text": [
      "[[[ 2  3]\n",
      "  [ 4  5]]\n",
      "\n",
      " [[ 7  8]\n",
      "  [ 9 10]]]\n"
     ]
    }
   ],
   "source": [
    "a = np.array([[[1, 2], [3, 4]], [[5, 6], [7, 8]]])    # (2,2,2)\n",
    "b = np.array([1, 2]) # (2,)\n",
    "\n",
    "c = a + b[:, np.newaxis, np.newaxis]\n",
    "print(c)"
   ]
  },
  {
   "cell_type": "code",
   "execution_count": 25,
   "id": "26d06fe4",
   "metadata": {},
   "outputs": [
    {
     "data": {
      "text/plain": [
       "array([[[1]],\n",
       "\n",
       "       [[2]]])"
      ]
     },
     "execution_count": 25,
     "metadata": {},
     "output_type": "execute_result"
    }
   ],
   "source": [
    "b[:, np.newaxis, np.newaxis]"
   ]
  },
  {
   "cell_type": "code",
   "execution_count": null,
   "id": "b428f185",
   "metadata": {},
   "outputs": [],
   "source": []
  }
 ],
 "metadata": {
  "kernelspec": {
   "display_name": "Python 3 (ipykernel)",
   "language": "python",
   "name": "python3"
  },
  "language_info": {
   "codemirror_mode": {
    "name": "ipython",
    "version": 3
   },
   "file_extension": ".py",
   "mimetype": "text/x-python",
   "name": "python",
   "nbconvert_exporter": "python",
   "pygments_lexer": "ipython3",
   "version": "3.9.7"
  }
 },
 "nbformat": 4,
 "nbformat_minor": 5
}
