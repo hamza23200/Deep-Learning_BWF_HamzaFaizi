{
 "cells": [
  {
   "cell_type": "markdown",
   "id": "405a11b1",
   "metadata": {},
   "source": [
    "It contains data structures and data manipulation tools designed to make data cleaning and analysis fast and easy in Python."
   ]
  },
  {
   "cell_type": "code",
   "execution_count": 2,
   "id": "adeff06f",
   "metadata": {},
   "outputs": [],
   "source": [
    "import pandas as pd\n",
    "from pandas import Series, DataFrame"
   ]
  },
  {
   "cell_type": "markdown",
   "id": "f5642ab9",
   "metadata": {},
   "source": [
    "**Panda Series**"
   ]
  },
  {
   "cell_type": "code",
   "execution_count": 8,
   "id": "3e1bfa02",
   "metadata": {},
   "outputs": [
    {
     "name": "stdout",
     "output_type": "stream",
     "text": [
      "a    1\n",
      "b    2\n",
      "c    3\n",
      "d    4\n",
      "e    5\n",
      "dtype: int64\n",
      "[1 2 3 4 5]\n",
      "Index(['a', 'b', 'c', 'd', 'e'], dtype='object')\n",
      "2\n"
     ]
    }
   ],
   "source": [
    "data = [1,2,3,4,5]\n",
    "index = ['a', 'b', 'c', 'd', 'e']\n",
    "s = pd.Series(data, index=index)\n",
    "print(s)\n",
    "print(s.values)\n",
    "print(s.index)\n",
    "print(s[1])"
   ]
  },
  {
   "cell_type": "markdown",
   "id": "6ec7643d",
   "metadata": {},
   "source": [
    "**creating a Series from the dictionary**"
   ]
  },
  {
   "cell_type": "code",
   "execution_count": 13,
   "id": "abb8038f",
   "metadata": {},
   "outputs": [
    {
     "name": "stdout",
     "output_type": "stream",
     "text": [
      "apple      5\n",
      "peach      9\n",
      "banana    10\n",
      "mango      1\n",
      "dtype: int64\n"
     ]
    }
   ],
   "source": [
    "dict = {'apple'  : 5,\n",
    "        'peach'  : 9,\n",
    "        'banana' : 10,\n",
    "        'mango'  : 1}\n",
    "s1 = pd.Series(dict)\n",
    "# keys of the dictionary are used as the index labels\n",
    "# values of the dictionary are used as the values in the Series\n",
    "print(s1)\n",
    "     "
   ]
  },
  {
   "cell_type": "markdown",
   "id": "3ced7f4f",
   "metadata": {},
   "source": [
    "**Changing Series index**"
   ]
  },
  {
   "cell_type": "code",
   "execution_count": 16,
   "id": "0cdc58b1",
   "metadata": {},
   "outputs": [
    {
     "name": "stdout",
     "output_type": "stream",
     "text": [
      "a    1\n",
      "b    2\n",
      "c    3\n",
      "d    4\n",
      "e    5\n",
      "dtype: int64\n",
      "\n",
      "Series  with modified Index: \n",
      "10    1\n",
      "20    2\n",
      "30    3\n",
      "40    4\n",
      "50    5\n",
      "dtype: int64\n"
     ]
    }
   ],
   "source": [
    "s = pd.Series([1,2,3,4,5], index=['a','b','c','d','e'])\n",
    "\n",
    "print(s)\n",
    "\n",
    "# Alter the series index\n",
    "s.index = [10,20,30,40,50]\n",
    "\n",
    "# Print the series\n",
    "print(\"\\nSeries  with modified Index: \")\n",
    "print(s)\n"
   ]
  },
  {
   "cell_type": "markdown",
   "id": "c433a332",
   "metadata": {},
   "source": [
    "**Operations with Pandas Series**"
   ]
  },
  {
   "cell_type": "code",
   "execution_count": 17,
   "id": "0a82573e",
   "metadata": {},
   "outputs": [
    {
     "name": "stdout",
     "output_type": "stream",
     "text": [
      "0    6\n",
      "1    6\n",
      "2    6\n",
      "3    6\n",
      "4    6\n",
      "dtype: int64\n",
      "0   -4\n",
      "1   -2\n",
      "2    0\n",
      "3    2\n",
      "4    4\n",
      "dtype: int64\n",
      "0    5\n",
      "1    8\n",
      "2    9\n",
      "3    8\n",
      "4    5\n",
      "dtype: int64\n"
     ]
    }
   ],
   "source": [
    "s1 = pd.Series([5,4,3,2,1])\n",
    "s2 = pd.Series([1,2,3,4,5])\n",
    "\n",
    "print(s1 + s2)\n",
    "print(s2 - s1)\n",
    "print (s2 * s1)"
   ]
  },
  {
   "cell_type": "markdown",
   "id": "1db0002c",
   "metadata": {},
   "source": [
    "**Acessing Elements**"
   ]
  },
  {
   "cell_type": "code",
   "execution_count": 20,
   "id": "cfcc690a",
   "metadata": {},
   "outputs": [
    {
     "name": "stdout",
     "output_type": "stream",
     "text": [
      "1\n",
      "1\n"
     ]
    }
   ],
   "source": [
    "s = pd.Series([1,2,3,4,5], index=['a','b','c','d','e'])\n",
    "\n",
    "# access element by label\n",
    "print(s.loc['a'])  \n",
    "\n",
    "# access element by position\n",
    "print(s.iloc[0])  "
   ]
  },
  {
   "cell_type": "markdown",
   "id": "f0958bd9",
   "metadata": {},
   "source": [
    "**Slicing a Pandas Series**"
   ]
  },
  {
   "cell_type": "code",
   "execution_count": 22,
   "id": "69370e36",
   "metadata": {},
   "outputs": [
    {
     "name": "stdout",
     "output_type": "stream",
     "text": [
      "b    2\n",
      "c    3\n",
      "d    4\n",
      "dtype: int64\n",
      "c    3\n",
      "d    4\n",
      "e    5\n",
      "dtype: int64\n"
     ]
    }
   ],
   "source": [
    "# slice the Series using index labels\n",
    "print (s['b' : 'd'])\n",
    "\n",
    "# slice the Series using positions\n",
    "print(s[2:])"
   ]
  },
  {
   "cell_type": "markdown",
   "id": "ddad5d19",
   "metadata": {},
   "source": [
    "# DataFrame in Pandas"
   ]
  },
  {
   "cell_type": "markdown",
   "id": "67bfe2c0",
   "metadata": {},
   "source": [
    "A DataFrame represents a rectangular table of data and contains an ordered collec‐\n",
    "tion of columns, each of which can be a different value type (numeric, string,\n",
    "boolean, etc.). The DataFrame has both a row and column index; it can be thought of\n",
    "as a dict of Series all sharing the same index."
   ]
  },
  {
   "cell_type": "markdown",
   "id": "16f6e158",
   "metadata": {},
   "source": [
    "**Using Dictionaries**"
   ]
  },
  {
   "cell_type": "code",
   "execution_count": 23,
   "id": "07b3e449",
   "metadata": {},
   "outputs": [
    {
     "name": "stdout",
     "output_type": "stream",
     "text": [
      "    name  age           city\n",
      "0    Ali   30       New York\n",
      "1   Josh   25  San Francisco\n",
      "2  Becky   40        Chicago\n"
     ]
    }
   ],
   "source": [
    "import pandas as pd\n",
    "\n",
    "dict = {'name':['Ali', 'Josh', 'Becky'],\n",
    "    'age' : [30, 25, 40],\n",
    "    'city' : ['New York', 'San Francisco', 'Chicago']}\n",
    "\n",
    "# Create a DataFrame from the dictionary\n",
    "frame = pd.DataFrame(dict)\n",
    "\n",
    "# Print the DataFrame\n",
    "print(frame)"
   ]
  },
  {
   "cell_type": "markdown",
   "id": "5ee45ae9",
   "metadata": {},
   "source": [
    "**list of dictionaries**"
   ]
  },
  {
   "cell_type": "code",
   "execution_count": 24,
   "id": "bf525c67",
   "metadata": {},
   "outputs": [
    {
     "name": "stdout",
     "output_type": "stream",
     "text": [
      "   name  age            city\n",
      "0  adam   25  sans fransisco\n",
      "1  adam   25         chicage\n",
      "2  adam   25        new york\n"
     ]
    }
   ],
   "source": [
    "# Create a list of dictionaries\n",
    "list = [{'name' : 'adam', 'age' : 25, 'city' : 'sans fransisco'},\n",
    "        {'name' : 'adam', 'age' : 25, 'city' : 'chicage'},\n",
    "        {'name' : 'adam', 'age' : 25, 'city' : 'new york'}]\n",
    "\n",
    "# Create a DataFrame from the list\n",
    "frame = pd.DataFrame(list)\n",
    "\n",
    "# Print the DataFrame\n",
    "print(frame)"
   ]
  },
  {
   "cell_type": "markdown",
   "id": "3b1ed459",
   "metadata": {},
   "source": [
    "**Using CSV**"
   ]
  },
  {
   "cell_type": "code",
   "execution_count": 25,
   "id": "067a6d8a",
   "metadata": {},
   "outputs": [],
   "source": [
    "##frame = pd.read_csv(\"File Path\")\n",
    "\n",
    "#print(frame)"
   ]
  },
  {
   "cell_type": "markdown",
   "id": "0f3cf03c",
   "metadata": {},
   "source": [
    "# Accessing Data in Df"
   ]
  },
  {
   "cell_type": "markdown",
   "id": "eac8bd73",
   "metadata": {},
   "source": [
    "**Rows**"
   ]
  },
  {
   "cell_type": "code",
   "execution_count": 28,
   "id": "86995f6f",
   "metadata": {},
   "outputs": [
    {
     "name": "stdout",
     "output_type": "stream",
     "text": [
      "name      Romeo\n",
      "age          40\n",
      "city    Chicago\n",
      "Name: 2, dtype: object\n"
     ]
    }
   ],
   "source": [
    "data = {'name': ['sin', 'jade', 'Romeo'],\n",
    "        'age': [30, 25, 40],\n",
    "        'city': ['New York', 'San Francisco', 'Chicago']}\n",
    "df = pd.DataFrame(data)\n",
    "\n",
    "# Access a row by index\n",
    "print(df.loc[2])"
   ]
  },
  {
   "cell_type": "markdown",
   "id": "5d01e021",
   "metadata": {},
   "source": [
    "**Column**"
   ]
  },
  {
   "cell_type": "code",
   "execution_count": 30,
   "id": "bdc18667",
   "metadata": {},
   "outputs": [
    {
     "name": "stdout",
     "output_type": "stream",
     "text": [
      "0      sin\n",
      "1     jade\n",
      "2    Romeo\n",
      "Name: name, dtype: object\n"
     ]
    }
   ],
   "source": [
    "df = pd.DataFrame(data)\n",
    "# Access a column by name\n",
    "print(df['name'])"
   ]
  },
  {
   "cell_type": "code",
   "execution_count": 31,
   "id": "e515d86d",
   "metadata": {},
   "outputs": [
    {
     "name": "stdout",
     "output_type": "stream",
     "text": [
      "jade\n"
     ]
    }
   ],
   "source": [
    "# Access a cell by row and column\n",
    "print(df.loc[1, 'name'])"
   ]
  },
  {
   "cell_type": "code",
   "execution_count": 41,
   "id": "c561ed70",
   "metadata": {},
   "outputs": [
    {
     "data": {
      "text/html": [
       "<div>\n",
       "<style scoped>\n",
       "    .dataframe tbody tr th:only-of-type {\n",
       "        vertical-align: middle;\n",
       "    }\n",
       "\n",
       "    .dataframe tbody tr th {\n",
       "        vertical-align: top;\n",
       "    }\n",
       "\n",
       "    .dataframe thead th {\n",
       "        text-align: right;\n",
       "    }\n",
       "</style>\n",
       "<table border=\"1\" class=\"dataframe\">\n",
       "  <thead>\n",
       "    <tr style=\"text-align: right;\">\n",
       "      <th></th>\n",
       "      <th>name</th>\n",
       "      <th>age</th>\n",
       "      <th>city</th>\n",
       "    </tr>\n",
       "  </thead>\n",
       "  <tbody>\n",
       "    <tr>\n",
       "      <th>2</th>\n",
       "      <td>Romeo</td>\n",
       "      <td>40</td>\n",
       "      <td>Chicago</td>\n",
       "    </tr>\n",
       "  </tbody>\n",
       "</table>\n",
       "</div>"
      ],
      "text/plain": [
       "    name  age     city\n",
       "2  Romeo   40  Chicago"
      ]
     },
     "execution_count": 41,
     "metadata": {},
     "output_type": "execute_result"
    }
   ],
   "source": [
    "data = {'name': ['sin', 'jade', 'Romeo'],\n",
    "        'age': [30, 25, 40],\n",
    "        'city': ['New York', 'San Francisco', 'Chicago']}\n",
    "df = pd.DataFrame(data)\n",
    "\n",
    "df[df['age']>30]"
   ]
  },
  {
   "cell_type": "markdown",
   "id": "4151ea33",
   "metadata": {},
   "source": [
    "# Modifying Df"
   ]
  },
  {
   "cell_type": "code",
   "execution_count": 32,
   "id": "50f8f848",
   "metadata": {},
   "outputs": [
    {
     "name": "stdout",
     "output_type": "stream",
     "text": [
      "    name  age           city state\n",
      "0    sin   30       New York    NY\n",
      "1   jade   25  San Francisco    CA\n",
      "2  Romeo   40        Chicago    IL\n"
     ]
    }
   ],
   "source": [
    "# Add a new column\n",
    "df['state'] = ['NY', 'CA', 'IL']\n",
    "\n",
    "# print a DataFrame\n",
    "print(df)"
   ]
  },
  {
   "cell_type": "code",
   "execution_count": 33,
   "id": "0b47761f",
   "metadata": {},
   "outputs": [
    {
     "name": "stdout",
     "output_type": "stream",
     "text": [
      "     name  age           city state\n",
      "0    Adam   30       New York    NY\n",
      "1   Alice   25  San Francisco    CA\n",
      "2  Sophia   40        Chicago    IL\n"
     ]
    }
   ],
   "source": [
    "# Update a column\n",
    "df['name'] = ['Adam', 'Alice', 'Sophia']\n",
    "\n",
    "# print a DataFrame\n",
    "print(df)"
   ]
  },
  {
   "cell_type": "code",
   "execution_count": 34,
   "id": "2b094012",
   "metadata": {},
   "outputs": [
    {
     "name": "stdout",
     "output_type": "stream",
     "text": [
      "     name           city state\n",
      "0    Adam       New York    NY\n",
      "1   Alice  San Francisco    CA\n",
      "2  Sophia        Chicago    IL\n"
     ]
    }
   ],
   "source": [
    "# Remove a column\n",
    "df = df.drop('age', axis= 1)\n",
    "\n",
    "# print the DataFrame\n",
    "print(df)"
   ]
  },
  {
   "cell_type": "code",
   "execution_count": 42,
   "id": "84a8b0a5",
   "metadata": {},
   "outputs": [
    {
     "name": "stdout",
     "output_type": "stream",
     "text": [
      "    name  age           city\n",
      "2  Romeo   40        Chicago\n",
      "0    sin   30       New York\n",
      "1   jade   25  San Francisco\n"
     ]
    }
   ],
   "source": [
    "# Sorting\n",
    "df_sorted = df.sort_values('age', ascending = False)\n",
    "\n",
    "# Print the sorted DataFrame\n",
    "print(df_sorted)"
   ]
  },
  {
   "cell_type": "code",
   "execution_count": null,
   "id": "df75f2fc",
   "metadata": {},
   "outputs": [],
   "source": []
  }
 ],
 "metadata": {
  "kernelspec": {
   "display_name": "Python 3 (ipykernel)",
   "language": "python",
   "name": "python3"
  },
  "language_info": {
   "codemirror_mode": {
    "name": "ipython",
    "version": 3
   },
   "file_extension": ".py",
   "mimetype": "text/x-python",
   "name": "python",
   "nbconvert_exporter": "python",
   "pygments_lexer": "ipython3",
   "version": "3.9.7"
  }
 },
 "nbformat": 4,
 "nbformat_minor": 5
}
