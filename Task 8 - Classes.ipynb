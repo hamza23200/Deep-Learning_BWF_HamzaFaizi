{
 "cells": [
  {
   "cell_type": "markdown",
   "id": "2835b3fc",
   "metadata": {},
   "source": [
    "# Classes"
   ]
  },
  {
   "cell_type": "code",
   "execution_count": 1,
   "id": "66fc6752",
   "metadata": {},
   "outputs": [
    {
     "name": "stdout",
     "output_type": "stream",
     "text": [
      "\n",
      "9-1-----\n",
      "ABC\n",
      "Noodles\n",
      "The name of the Restaurant is ABC and it makes Noodles\n",
      "The Restaurant is open\n"
     ]
    }
   ],
   "source": [
    "print(\"\\n9-1-----\")\n",
    "\n",
    "class Restaurant:\n",
    "    def __init__(self, name, cuisine_type):\n",
    "        self.name = name\n",
    "        self.cuisine_type = cuisine_type\n",
    "        \n",
    "    def describe_restaurant(self):\n",
    "        print('The name of the Restaurant is {} and it makes {}'.format(self.name, self.cuisine_type))\n",
    "    \n",
    "    def open_restaurant(self):\n",
    "        print('The Restaurant is open')\n",
    "        \n",
    "\n",
    "restaurant = Restaurant('ABC', 'Noodles')\n",
    "\n",
    "print(restaurant.name)\n",
    "print(restaurant.cuisine_type)\n",
    "\n",
    "restaurant.describe_restaurant()\n",
    "restaurant.open_restaurant()\n"
   ]
  },
  {
   "cell_type": "code",
   "execution_count": 8,
   "id": "cce823df",
   "metadata": {},
   "outputs": [
    {
     "name": "stdout",
     "output_type": "stream",
     "text": [
      "\n",
      "9-2-----\n",
      "ABC\n",
      "Noodles\n",
      "The name of the Restaurant is ABC and it makes Noodles\n",
      "The Restaurant is open\n",
      "\n",
      "Mcdonalds\n",
      "burger\n",
      "The name of the Restaurant is Mcdonalds and it makes burger\n",
      "The Restaurant is open\n",
      "\n",
      "ASDD\n",
      "sandwich\n",
      "The name of the Restaurant is ASDD and it makes sandwich\n",
      "The Restaurant is open\n"
     ]
    }
   ],
   "source": [
    "print(\"\\n9-2-----\")\n",
    "\n",
    "\n",
    "class Restaurant:\n",
    "    def __init__(self, name, cuisine_type):\n",
    "        self.name = name\n",
    "        self.cuisine_type = cuisine_type\n",
    "        \n",
    "    def describe_restaurant(self):\n",
    "        print('The name of the Restaurant is {} and it makes {}'.format(self.name, self.cuisine_type))\n",
    "    \n",
    "    def open_restaurant(self):\n",
    "        print('The Restaurant is open')\n",
    "        \n",
    "\n",
    "restaurant = Restaurant('ABC', 'Noodles')\n",
    "\n",
    "print(restaurant.name)\n",
    "print(restaurant.cuisine_type)\n",
    "\n",
    "restaurant.describe_restaurant()\n",
    "restaurant.open_restaurant()\n",
    "print()\n",
    "restaurant = Restaurant('Mcdonalds', 'burger')\n",
    "\n",
    "print(restaurant.name)\n",
    "print(restaurant.cuisine_type)\n",
    "\n",
    "restaurant.describe_restaurant()\n",
    "restaurant.open_restaurant()\n",
    "print()\n",
    "restaurant = Restaurant('ASDD', 'sandwich')\n",
    "\n",
    "print(restaurant.name)\n",
    "print(restaurant.cuisine_type)\n",
    "\n",
    "restaurant.describe_restaurant()\n",
    "restaurant.open_restaurant()"
   ]
  },
  {
   "cell_type": "code",
   "execution_count": 13,
   "id": "6e2cc780",
   "metadata": {},
   "outputs": [
    {
     "name": "stdout",
     "output_type": "stream",
     "text": [
      "\n",
      "9-3-----\n",
      "Zpheyr\n",
      "Mix\n",
      "125678\n",
      "\n",
      "Zpheyr Mix has user id 125678\n",
      "\n",
      "Welcome Zpheyr\n",
      "\n",
      "Lol\n",
      "Tyrt\n",
      "6733466\n",
      "\n",
      "Lol Tyrt has user id 6733466\n",
      "\n",
      "Welcome Lol\n"
     ]
    }
   ],
   "source": [
    "print(\"\\n9-3-----\")\n",
    "\n",
    "\n",
    "class User:\n",
    "    \n",
    "    def __init__(self, first_name, last_name, id):\n",
    "        self.first_name = first_name.title()\n",
    "        self.last_name = last_name.title()\n",
    "        self.id = id\n",
    "\n",
    "    def describe_user(self):\n",
    "        print('{} {} has user id {}'.format(self.first_name, self.last_name, self.id))\n",
    "        \n",
    "    def greet_user(self):\n",
    "        print('Welcome {}'.format(self.first_name))\n",
    "        \n",
    "name = User('zpheyr', 'mix', 125678)\n",
    "print(name.first_name)\n",
    "print(name.last_name)\n",
    "print(name.id)\n",
    "print()\n",
    "name.describe_user()\n",
    "print()\n",
    "name.greet_user()\n",
    "\n",
    "print()\n",
    "name1 = User('lol', 'tyrt', 6733466)\n",
    "print(name1.first_name)\n",
    "print(name1.last_name)\n",
    "print(name1.id)\n",
    "print()\n",
    "name1.describe_user()\n",
    "print()\n",
    "name1.greet_user()\n",
    "\n"
   ]
  },
  {
   "cell_type": "code",
   "execution_count": 14,
   "id": "f82560ff",
   "metadata": {},
   "outputs": [
    {
     "name": "stdout",
     "output_type": "stream",
     "text": [
      "\n",
      "9-4-----\n",
      "Csadas\n",
      "Noodles\n",
      "The name of the Restaurant is Csadas and it makes Noodles\n",
      "The Restaurant is open\n",
      "This restaurant has 0 customers  \n",
      "This restaurant has 22 customers  \n",
      "This restaurant has 29 customers  \n"
     ]
    }
   ],
   "source": [
    "print(\"\\n9-4-----\")\n",
    "\n",
    "class Restaurant:\n",
    "    def __init__(self, name, cuisine_type):\n",
    "        self.name = name\n",
    "        self.cuisine_type = cuisine_type\n",
    "        self.number_served = 0\n",
    "        \n",
    "    def describe_restaurant(self):\n",
    "        print('The name of the Restaurant is {} and it makes {}'.format(self.name, self.cuisine_type))\n",
    "    \n",
    "    def open_restaurant(self):\n",
    "        print('The Restaurant is open')\n",
    "    \n",
    "    def customer_numbers(self):\n",
    "        print('This restaurant has {} customers  '.format(self.number_served))\n",
    "        \n",
    "    def set_number_served(self, served):\n",
    "        self.number_served = served\n",
    "        \n",
    "    def increment_number_served(self, customers):\n",
    "        self. number_served += customers\n",
    "        \n",
    "        \n",
    "restaurant = Restaurant('Csadas', 'Noodles')\n",
    "\n",
    "print(restaurant.name)\n",
    "print(restaurant.cuisine_type)\n",
    "\n",
    "restaurant.describe_restaurant()\n",
    "restaurant.open_restaurant()\n",
    "\n",
    "restaurant.customer_numbers()\n",
    "restaurant.set_number_served(22)\n",
    "restaurant.customer_numbers()\n",
    "restaurant.increment_number_served(7)\n",
    "restaurant.customer_numbers()"
   ]
  },
  {
   "cell_type": "code",
   "execution_count": 15,
   "id": "b1c8e0f3",
   "metadata": {},
   "outputs": [
    {
     "name": "stdout",
     "output_type": "stream",
     "text": [
      "\n",
      "9-7-----\n",
      "jnn j, 8 years old, from Ny\n",
      "Admin privileges:\n",
      "- can add post\n",
      "- can delete post\n",
      "- can ban user\n"
     ]
    }
   ],
   "source": [
    "print(\"\\n9-7-----\")\n",
    "\n",
    "class User:\n",
    "    def __init__(self, first_name, last_name, age, location):\n",
    "        self.first_name = first_name\n",
    "        self.last_name = last_name\n",
    "        self.age = age\n",
    "        self.location = location\n",
    "        \n",
    "    def describe_user(self):\n",
    "        print(f\"{self.first_name} {self.last_name}, {self.age} years old, from {self.location}\")\n",
    "        \n",
    "    def greet_user(self):\n",
    "        print(f\"Hello, {self.first_name}!\")\n",
    "        \n",
    "class Admin(User):\n",
    "    def __init__(self, first_name, last_name, age, location):\n",
    "        super().__init__(first_name, last_name, age, location)\n",
    "        self.privileges = [\"can add post\", \"can delete post\", \"can ban user\"]\n",
    "        \n",
    "    def show_privileges(self):\n",
    "        print(f\"Admin privileges:\")\n",
    "        for privilege in self.privileges:\n",
    "            print(f\"- {privilege}\")\n",
    "            \n",
    "admin = Admin(\"jnn\", \"j\", 8, \"Ny\")\n",
    "admin.describe_user()\n",
    "admin.show_privileges()\n"
   ]
  },
  {
   "cell_type": "code",
   "execution_count": 16,
   "id": "a309b56e",
   "metadata": {},
   "outputs": [
    {
     "name": "stdout",
     "output_type": "stream",
     "text": [
      "\n",
      "9-8-----\n",
      "nahhh bbbhhb, 35 years old, from pak\n",
      "Admin privileges:\n",
      "- can add post\n",
      "- can delete post\n",
      "- can ban user\n"
     ]
    }
   ],
   "source": [
    "print(\"\\n9-8-----\")\n",
    "\n",
    "class User:\n",
    "    def __init__(self, first_name, last_name, age, location):\n",
    "        self.first_name = first_name\n",
    "        self.last_name = last_name\n",
    "        self.age = age\n",
    "        self.location = location\n",
    "        \n",
    "    def describe_user(self):\n",
    "        print(f\"{self.first_name} {self.last_name}, {self.age} years old, from {self.location}\")\n",
    "        \n",
    "    def greet_user(self):\n",
    "        print(f\"Hello, {self.first_name}!\")\n",
    "        \n",
    "class Privileges:\n",
    "    def __init__(self):\n",
    "        self.privileges = [\"can add post\", \"can delete post\", \"can ban user\"]\n",
    "        \n",
    "    def show_privileges(self):\n",
    "        print(f\"Admin privileges:\")\n",
    "        for privilege in self.privileges:\n",
    "            print(f\"- {privilege}\")\n",
    "\n",
    "class Admin(User):\n",
    "    def __init__(self, first_name, last_name, age, location):\n",
    "        super().__init__(first_name, last_name, age, location)\n",
    "        self.privileges = Privileges()\n",
    "        \n",
    "        \n",
    "admin = Admin(\"nahhh\", \"bbbhhb\", 35, \"pak\")\n",
    "admin.describe_user()\n",
    "admin.privileges.show_privileges()"
   ]
  },
  {
   "cell_type": "code",
   "execution_count": null,
   "id": "c1594013",
   "metadata": {},
   "outputs": [],
   "source": []
  },
  {
   "cell_type": "code",
   "execution_count": null,
   "id": "336caf63",
   "metadata": {},
   "outputs": [],
   "source": []
  }
 ],
 "metadata": {
  "kernelspec": {
   "display_name": "Python 3 (ipykernel)",
   "language": "python",
   "name": "python3"
  },
  "language_info": {
   "codemirror_mode": {
    "name": "ipython",
    "version": 3
   },
   "file_extension": ".py",
   "mimetype": "text/x-python",
   "name": "python",
   "nbconvert_exporter": "python",
   "pygments_lexer": "ipython3",
   "version": "3.9.7"
  }
 },
 "nbformat": 4,
 "nbformat_minor": 5
}
