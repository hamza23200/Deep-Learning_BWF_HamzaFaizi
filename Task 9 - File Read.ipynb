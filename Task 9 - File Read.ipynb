{
 "cells": [
  {
   "cell_type": "markdown",
   "id": "d92982e4",
   "metadata": {},
   "source": [
    "#  File Reading & Writing"
   ]
  },
  {
   "cell_type": "code",
   "execution_count": 1,
   "id": "1bf5d718",
   "metadata": {},
   "outputs": [
    {
     "name": "stdout",
     "output_type": "stream",
     "text": [
      "Ax\n",
      "Bx\n",
      "Cx\n",
      "Dx\n",
      "Ex\n",
      "Fx\n",
      "Gx\n"
     ]
    }
   ],
   "source": [
    "file_opener = open('file.txt', 'r')\n",
    "print(file_opener.read())"
   ]
  },
  {
   "cell_type": "markdown",
   "id": "0c0efcaf",
   "metadata": {},
   "source": [
    "## List"
   ]
  },
  {
   "cell_type": "code",
   "execution_count": 4,
   "id": "bc40f253",
   "metadata": {},
   "outputs": [
    {
     "name": "stdout",
     "output_type": "stream",
     "text": [
      "['Ax', 'Bx', 'Cx', 'Dx', 'Ex', 'Fx', 'Gx']\n"
     ]
    }
   ],
   "source": [
    "file_opener = open('file.txt', 'r') \n",
    "\n",
    "read_line_by_line = file_opener.readlines()\n",
    "\n",
    "list = []\n",
    "\n",
    "for line in read_line_by_line:\n",
    "    list.append(line.strip())\n",
    "\n",
    "print(list)"
   ]
  },
  {
   "cell_type": "markdown",
   "id": "6d91e431",
   "metadata": {},
   "source": [
    "## Writing"
   ]
  },
  {
   "cell_type": "code",
   "execution_count": 10,
   "id": "711a6e81",
   "metadata": {},
   "outputs": [
    {
     "name": "stdout",
     "output_type": "stream",
     "text": [
      "Adding some content\n"
     ]
    }
   ],
   "source": [
    "file_opener = open(\"file_2.txt\", \"w\")\n",
    "file_opener.write(\"Adding some content\")\n",
    "file_opener.close()\n",
    "\n",
    "file_opener = open('file_2.txt', 'r')\n",
    "print(file_opener.read())"
   ]
  },
  {
   "cell_type": "markdown",
   "id": "4171fb3b",
   "metadata": {},
   "source": [
    "#  Except & Finally"
   ]
  },
  {
   "cell_type": "code",
   "execution_count": null,
   "id": "602f4321",
   "metadata": {},
   "outputs": [],
   "source": [
    "# Condition we want to satisfy: username has to alphabets and atleast 3 characters\n",
    "\n",
    "list = []\n",
    "def users_name():\n",
    "    while True: \n",
    "        try:\n",
    "            name = str(input(\"Please enter your first name: \"))\n",
    "            if (len(name) > 2 and name.isalpha()):\n",
    "                list.append(name)\n",
    "                print(list)\n",
    "                break\n",
    "            else:\n",
    "                raise TypeError\n",
    "        except TypeError:\n",
    "            print(\"Letters only please.\")\n",
    "            break # This causes it to continue\n",
    "        except EOFError:\n",
    "            print(\"Please input something....\")\n",
    "            break # This causes it to continue\n",
    "        finally:\n",
    "            print(\"Execution Completed\")\n",
    "\n",
    "users_name()"
   ]
  }
 ],
 "metadata": {
  "kernelspec": {
   "display_name": "Python 3 (ipykernel)",
   "language": "python",
   "name": "python3"
  },
  "language_info": {
   "codemirror_mode": {
    "name": "ipython",
    "version": 3
   },
   "file_extension": ".py",
   "mimetype": "text/x-python",
   "name": "python",
   "nbconvert_exporter": "python",
   "pygments_lexer": "ipython3",
   "version": "3.9.7"
  }
 },
 "nbformat": 4,
 "nbformat_minor": 5
}
